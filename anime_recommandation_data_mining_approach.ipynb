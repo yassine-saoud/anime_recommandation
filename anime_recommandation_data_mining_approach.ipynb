{
 "cells": [
  {
   "cell_type": "markdown",
   "metadata": {},
   "source": [
    "\n",
    "## <center>** Anime recommendations and score prediction **\n",
    "\n",
    "\n",
    "Welcome to this project where we will follow the data mining process to end up by creating some machine learning algorithms.\n",
    "\n",
    "`in this project we will follow the following steps:`\n",
    "\n",
    "* Create a web scraping script which collects data about animes and build our dataset.\n",
    "* Understand the dataset using Data description and visualization techniques.\n",
    "* Clean the dataset and apply dimensionality reduction techniques to make it ready to be trained.\n",
    "* Apply some ML algorithms to create a recommendation system and a score predictor."
   ]
  },
  {
   "cell_type": "markdown",
   "metadata": {},
   "source": [
    "----------------------------\n",
    "----------------------------\n",
    "\n",
    "### <center> `Anime Scraping` \n",
    "\n",
    "In this part we will run a web scraping script using the libraries request and BeautifulSoop to collect some information about a list of animes based on a very famous site web in this domain called my anime list (we choose this site web because it is used by people in the whole world so information collected will be more reliable and our algorithms will give better results). "
   ]
  },
  {
   "cell_type": "code",
   "execution_count": 385,
   "metadata": {},
   "outputs": [],
   "source": [
    "import requests\n",
    "from bs4 import BeautifulSoup\n",
    "import pandas as pd\n",
    "import re\n",
    "import matplotlib.pyplot as plt\n",
    "import seaborn as sns\n",
    "import numpy as np\n",
    "%matplotlib inline"
   ]
  },
  {
   "cell_type": "code",
   "execution_count": 386,
   "metadata": {},
   "outputs": [],
   "source": [
    "df_final = pd.DataFrame(columns=['rank','score','title','type','genres','episodes','producers','trailer','image','description'])\n",
    "for h in range(0,4150,50):\n",
    "    req = requests.get('https://myanimelist.net/topanime.php',params={'limit':h})\n",
    "    soup = BeautifulSoup(req.text, 'html.parser')\n",
    "    animes = soup.find_all('tr')[1:]\n",
    "    df = pd.DataFrame(columns=['rank','score','title','type','genres','episodes','producers','trailer','image','description'])\n",
    "    for anime in animes :\n",
    "        rank = int(anime.find_all('td')[0].find('span').text)\n",
    "        score = float(anime.find_all('td')[2].find('span').text)\n",
    "        link = anime.find_all('td')[1].find('a').get('href')\n",
    "        re = requests.get(link)\n",
    "        if (re.status_code == 200) :\n",
    "            s = BeautifulSoup(re.text, 'html.parser')\n",
    "            try:\n",
    "                title = s.find('p',{'class':'title-english title-inherit'}).text\n",
    "            except:\n",
    "                try: title = s.find('p',{'class':'title-english title-inherit'}).text\n",
    "                except: \n",
    "                    try : title = s.find('h1').text\n",
    "                    except: title= None\n",
    "            finally :\n",
    "                try: trailer_link = s.find('div',{\"class\":\"video-promotion\"}).find('a').get('href')\n",
    "                except : trailer_link = None\n",
    "                try: image = s.find('tr').find('img').get('data-src')\n",
    "                except: image = None\n",
    "                try: description = s.find('p',{\"itemprop\":\"description\"}).text\n",
    "                except: description = None\n",
    "                a = s.find('td',{'style':'border-width: 0 1px 0 0;'}).find_all('div',{'class':'spaceit_pad'})\n",
    "                for i in a[2:]:\n",
    "                    t = i.find('span').text\n",
    "                    if (t =='Type:'):\n",
    "                        try : type = i.find('a').text\n",
    "                        except :\n",
    "                            try: type = i.text.split()[1]\n",
    "                            except : type = None\n",
    "                    elif (t == 'Episodes:'):\n",
    "                        try: episodes = i.text.split()[1]\n",
    "                        except: episodes = None\n",
    "                    elif (t == 'Producers:'):\n",
    "                        try: producers = [x.text for x in i.find_all(\"a\")]\n",
    "                        except: producers = None\n",
    "                    elif (t == 'Genres:'):\n",
    "                        try: genres = [x.text for x in i.find_all(\"a\")]\n",
    "                        except: genres = None\n",
    "                        break\n",
    "                df.loc[len(df)] = [rank,score,title,type,genres,episodes,producers,trailer_link,image,description]\n",
    "    print(h)\n",
    "    df_final=pd.concat([df_final,df],axis=0).reset_index(drop=True)\n",
    "df_final.to_csv(\"animes.csv\")"
   ]
  },
  {
   "cell_type": "markdown",
   "metadata": {},
   "source": [
    "## **The Dataset**\n",
    "\n",
    "By the end of this step we have a dataset which contains data on anime listings. It contains the following columns:\n",
    "\n",
    "- `rank`: This a unique attribute for each anime which identify the rank of the list in listing\n",
    "- `score`: A score between 0 and 9 which is calculated according to people feedback in the whole word\n",
    "- `title`: Or the name of the anime\n",
    "- `type`: type of anime either TV, movie ... \n",
    "- `genres`: genres of anime (sport, comedy, drama, action ...)\n",
    "- `episodes`: number of episodes of anime\n",
    "- `producers`: Companies which contribute to the production of the anime\n",
    "- `trailer`: A link to the trailer video of the anime\n",
    "- `image`: A link to the poster of the anime\n",
    "- `description`: a paragraph which describes the anime"
   ]
  },
  {
   "cell_type": "markdown",
   "metadata": {},
   "source": [
    "----------------------------\n",
    "----------------------------\n",
    "\n",
    "### <center> `Data Cleaning` \n",
    "\n",
    "In this part we will try to understand our data using some visualization plots and statistical metrics"
   ]
  },
  {
   "cell_type": "code",
   "execution_count": 387,
   "metadata": {},
   "outputs": [
    {
     "name": "stdout",
     "output_type": "stream",
     "text": [
      "<class 'pandas.core.frame.DataFrame'>\n",
      "Int64Index: 4150 entries, 0 to 4149\n",
      "Data columns (total 10 columns):\n",
      " #   Column       Non-Null Count  Dtype  \n",
      "---  ------       --------------  -----  \n",
      " 0   rank         4150 non-null   int64  \n",
      " 1   score        4150 non-null   float64\n",
      " 2   title        4150 non-null   object \n",
      " 3   type         4150 non-null   object \n",
      " 4   genres       4150 non-null   object \n",
      " 5   episodes     4150 non-null   object \n",
      " 6   producers    4150 non-null   object \n",
      " 7   trailer      2274 non-null   object \n",
      " 8   image        4150 non-null   object \n",
      " 9   description  4150 non-null   object \n",
      "dtypes: float64(1), int64(1), object(8)\n",
      "memory usage: 356.6+ KB\n"
     ]
    }
   ],
   "source": [
    "df = pd.read_csv('animes.csv', index_col = 0)\n",
    "df.info()"
   ]
  },
  {
   "cell_type": "code",
   "execution_count": 388,
   "metadata": {},
   "outputs": [
    {
     "name": "stdout",
     "output_type": "stream",
     "text": [
      "<class 'pandas.core.frame.DataFrame'>\n",
      "Int64Index: 4150 entries, 0 to 4149\n",
      "Data columns (total 7 columns):\n",
      " #   Column     Non-Null Count  Dtype  \n",
      "---  ------     --------------  -----  \n",
      " 0   rank       4150 non-null   int64  \n",
      " 1   score      4150 non-null   float64\n",
      " 2   title      4150 non-null   object \n",
      " 3   type       4150 non-null   object \n",
      " 4   genres     4150 non-null   object \n",
      " 5   episodes   4150 non-null   object \n",
      " 6   producers  4150 non-null   object \n",
      "dtypes: float64(1), int64(1), object(5)\n",
      "memory usage: 259.4+ KB\n"
     ]
    }
   ],
   "source": [
    "# first we need to drop some columns\n",
    "anime = df.drop(['description','image','trailer'], axis=1)\n",
    "anime.info()"
   ]
  },
  {
   "cell_type": "code",
   "execution_count": 389,
   "metadata": {},
   "outputs": [
    {
     "data": {
      "text/html": [
       "<div>\n",
       "<style scoped>\n",
       "    .dataframe tbody tr th:only-of-type {\n",
       "        vertical-align: middle;\n",
       "    }\n",
       "\n",
       "    .dataframe tbody tr th {\n",
       "        vertical-align: top;\n",
       "    }\n",
       "\n",
       "    .dataframe thead th {\n",
       "        text-align: right;\n",
       "    }\n",
       "</style>\n",
       "<table border=\"1\" class=\"dataframe\">\n",
       "  <thead>\n",
       "    <tr style=\"text-align: right;\">\n",
       "      <th></th>\n",
       "      <th>rank</th>\n",
       "      <th>score</th>\n",
       "      <th>title</th>\n",
       "      <th>type</th>\n",
       "      <th>genres</th>\n",
       "      <th>episodes</th>\n",
       "      <th>producers</th>\n",
       "    </tr>\n",
       "  </thead>\n",
       "  <tbody>\n",
       "    <tr>\n",
       "      <th>0</th>\n",
       "      <td>1</td>\n",
       "      <td>9.11</td>\n",
       "      <td>Bleach: Thousand-Year Blood War</td>\n",
       "      <td>TV</td>\n",
       "      <td>['Action', 'Adventure', 'Fantasy']</td>\n",
       "      <td>13</td>\n",
       "      <td>['TV Tokyo', 'Aniplex', 'Dentsu', 'Shueisha']</td>\n",
       "    </tr>\n",
       "    <tr>\n",
       "      <th>1</th>\n",
       "      <td>2</td>\n",
       "      <td>9.11</td>\n",
       "      <td>Fullmetal Alchemist: Brotherhood</td>\n",
       "      <td>TV</td>\n",
       "      <td>['Action', 'Adventure', 'Drama', 'Fantasy']</td>\n",
       "      <td>64</td>\n",
       "      <td>['Aniplex', 'Square Enix', 'Mainichi Broadcast...</td>\n",
       "    </tr>\n",
       "    <tr>\n",
       "      <th>2</th>\n",
       "      <td>3</td>\n",
       "      <td>9.08</td>\n",
       "      <td>Steins;Gate</td>\n",
       "      <td>TV</td>\n",
       "      <td>['Drama', 'Sci-Fi', 'Suspense']</td>\n",
       "      <td>24</td>\n",
       "      <td>['Frontier Works', 'Media Factory', 'Movic', '...</td>\n",
       "    </tr>\n",
       "    <tr>\n",
       "      <th>3</th>\n",
       "      <td>4</td>\n",
       "      <td>9.07</td>\n",
       "      <td>Gintama Season 4</td>\n",
       "      <td>TV</td>\n",
       "      <td>['Action', 'Comedy', 'Sci-Fi']</td>\n",
       "      <td>51</td>\n",
       "      <td>['TV Tokyo', 'Aniplex', 'Dentsu']</td>\n",
       "    </tr>\n",
       "    <tr>\n",
       "      <th>4</th>\n",
       "      <td>5</td>\n",
       "      <td>9.07</td>\n",
       "      <td>Kaguya-sama: Love is War - Ultra Romantic</td>\n",
       "      <td>TV</td>\n",
       "      <td>['Comedy', 'Romance']</td>\n",
       "      <td>13</td>\n",
       "      <td>['Aniplex', 'Mainichi Broadcasting System', 'M...</td>\n",
       "    </tr>\n",
       "  </tbody>\n",
       "</table>\n",
       "</div>"
      ],
      "text/plain": [
       "   rank  score                                      title type  \\\n",
       "0     1   9.11            Bleach: Thousand-Year Blood War   TV   \n",
       "1     2   9.11           Fullmetal Alchemist: Brotherhood   TV   \n",
       "2     3   9.08                                Steins;Gate   TV   \n",
       "3     4   9.07                           Gintama Season 4   TV   \n",
       "4     5   9.07  Kaguya-sama: Love is War - Ultra Romantic   TV   \n",
       "\n",
       "                                        genres episodes  \\\n",
       "0           ['Action', 'Adventure', 'Fantasy']       13   \n",
       "1  ['Action', 'Adventure', 'Drama', 'Fantasy']       64   \n",
       "2              ['Drama', 'Sci-Fi', 'Suspense']       24   \n",
       "3               ['Action', 'Comedy', 'Sci-Fi']       51   \n",
       "4                        ['Comedy', 'Romance']       13   \n",
       "\n",
       "                                           producers  \n",
       "0      ['TV Tokyo', 'Aniplex', 'Dentsu', 'Shueisha']  \n",
       "1  ['Aniplex', 'Square Enix', 'Mainichi Broadcast...  \n",
       "2  ['Frontier Works', 'Media Factory', 'Movic', '...  \n",
       "3                  ['TV Tokyo', 'Aniplex', 'Dentsu']  \n",
       "4  ['Aniplex', 'Mainichi Broadcasting System', 'M...  "
      ]
     },
     "execution_count": 389,
     "metadata": {},
     "output_type": "execute_result"
    }
   ],
   "source": [
    "anime.head()"
   ]
  },
  {
   "cell_type": "code",
   "execution_count": 390,
   "metadata": {},
   "outputs": [
    {
     "data": {
      "text/plain": [
       "False"
      ]
     },
     "execution_count": 390,
     "metadata": {},
     "output_type": "execute_result"
    }
   ],
   "source": [
    "# find duplicates\n",
    "anime.duplicated().any()"
   ]
  },
  {
   "cell_type": "code",
   "execution_count": 391,
   "metadata": {},
   "outputs": [
    {
     "data": {
      "text/plain": [
       "False"
      ]
     },
     "execution_count": 391,
     "metadata": {},
     "output_type": "execute_result"
    }
   ],
   "source": [
    "# find if the rank column has some duplicates because this variable must be unique for each anime \n",
    "anime.duplicated(subset='rank').any()"
   ]
  },
  {
   "cell_type": "markdown",
   "metadata": {},
   "source": [
    "## **Our to do list:**\n",
    "\n",
    "_type column:_\n",
    "\n",
    "- **`Task 1`**: transform categorical data into numeric data but we have to use one-hot encoding techniques because the recommendation algo calculates distances\n",
    "<br>\n",
    "\n",
    "_episodes column:_\n",
    "\n",
    "- **`Task 2`**: there are some animes with unknown number of episodes so in most cases these anime are still not finished so we need to estimate the final number of episodes because this feature is very important in our study (for example a person who like an anime of 24 episodes it is logical to recommend him an anime with closer number of episodes also the number of episodes influences a lot the score for example most people prefer short stories)\n",
    "- **`Task 3`**: Convert data to int \n",
    "<br>\n",
    "\n",
    "_genres&producers column:_\n",
    "\n",
    "- **`Task 4`**: firstly values in these columns are a string which contain a list of strings so we need to convert it to a list of strings and then find uniques values (for producers and genres) then use one hot encoder to convert them to numeric data\n",
    "<br>\n",
    "\n",
    "_Dealing with missing data and duplicates:_\n",
    "\n",
    "- fortunately we don't have messing values (except Unknown values in the episodes column) also we don't have duplicates especially we don't have duplicates in the rank column which need to be unique. \n",
    "\n"
   ]
  },
  {
   "cell_type": "markdown",
   "metadata": {},
   "source": [
    "#### 1- episodes type column "
   ]
  },
  {
   "cell_type": "code",
   "execution_count": 392,
   "metadata": {},
   "outputs": [
    {
     "data": {
      "text/plain": [
       "array(['13', '64', '24', '51', '10', '1', '148', '110', '12', '22', '201',\n",
       "       '25', '7', '14', '74', '11', '26', '16', '75', '47', '4', '43',\n",
       "       'Unknown', '27', '37', '39', '23', '101', '99', '2', '15', '112',\n",
       "       '6', '8', '120', '62', '50', '20', '40', '33', '94', '79', '3',\n",
       "       '52', '500', '17', '77', '78', '96', '70', '291', '170', '203',\n",
       "       '38', '21', '102', '30', '63', '28', '45', '5', '103', '220', '9',\n",
       "       '153', '109', '34', '69', '145', '36', '366', '60', '167', '178',\n",
       "       '49', '35', '113', '155', '1787', '54', '373', '161', '100', '114',\n",
       "       '19', '46', '97', '195', '104', '358', '42', '31', '61', '127',\n",
       "       '48', '56', '142', '73', '136', '175', '115', '150', '53', '147',\n",
       "       '29', '140', '124', '224', '76', '44', '18', '154', '131', '58',\n",
       "       '130', '72', '87', '276', '67', '93', '330', '128', '384', '105',\n",
       "       '172', '86', '137', '41', '92', '191', '91', '180', '65', '243',\n",
       "       '182', '59', '66', '192', '55', '193', '280', '260', '296'],\n",
       "      dtype=object)"
      ]
     },
     "execution_count": 392,
     "metadata": {},
     "output_type": "execute_result"
    }
   ],
   "source": [
    "anime['episodes'].unique()"
   ]
  },
  {
   "cell_type": "code",
   "execution_count": 393,
   "metadata": {},
   "outputs": [
    {
     "data": {
      "text/plain": [
       "21"
      ]
     },
     "execution_count": 393,
     "metadata": {},
     "output_type": "execute_result"
    }
   ],
   "source": [
    "# the number of animes with unknown number of episodes\n",
    "anime['episodes'].value_counts()['Unknown']"
   ]
  },
  {
   "cell_type": "code",
   "execution_count": null,
   "metadata": {},
   "outputs": [
    {
     "data": {
      "text/plain": [
       "type      \n",
       "Movie    0     1\n",
       "Music    0     1\n",
       "ONA      0    12\n",
       "OVA      0     1\n",
       "Special  0     1\n",
       "TV       0    12\n",
       "Name: episodes, dtype: object"
      ]
     },
     "execution_count": 81,
     "metadata": {},
     "output_type": "execute_result"
    }
   ],
   "source": [
    "# now we will find the most frequent number of episodes of each type because the number of episodes is Highly related\n",
    "# to the type (for example the mode for Movies is 1 episode and it's logical but if we try to fill all unknown number\n",
    "# of episodes without caring of types we will choose 1 episode for all of them because in our dataset we have a lot of \n",
    "# movies however this will lead to wrong estimations)\n",
    "\n",
    "epis_mode_per_type = anime.groupby('type')['episodes'].apply(lambda x:x.mode())\n",
    "epis_mode_per_type"
   ]
  },
  {
   "cell_type": "code",
   "execution_count": 394,
   "metadata": {},
   "outputs": [
    {
     "data": {
      "text/plain": [
       "array([  13,   64,   24,   51,   10,    1,  148,  110,   12,   22,  201,\n",
       "         25,    7,   14,   74,   11,   26,   16,   75,   47,    4,   43,\n",
       "       1000,   27,   37,   39,   23,  101,   99,    2,   15,  112,    6,\n",
       "          8,  120,   62,   50,   20,   40,   33,   94,   79,    3,   52,\n",
       "        500,   17,   77,   78,   96,   70,  291,  170,  203,   38,   21,\n",
       "        102,   30,   63,   28,   45,    5,  103,  220,    9,  153,  109,\n",
       "         34,   69,  145,   36,  366,   60,  167,  178,   49,   35,  113,\n",
       "        155, 1787,   54,  373,  161,  100,  114,   19,   46,   97,  195,\n",
       "        104,  358,   42,   31,   61,  127,   48,   56,  142,   73,  136,\n",
       "        175,  115,  150,   53,  147,   29,  140,  124,  224,   76,   44,\n",
       "         18,  154,  131,   58,  130,   72,   87,  276,   67,   93,  330,\n",
       "        128,  384,  105,  172,   86,  137,   41,   92,  191,   91,  180,\n",
       "         65,  243,  182,   59,   66,  192,   55,  193,  280,  260,  296])"
      ]
     },
     "execution_count": 394,
     "metadata": {},
     "output_type": "execute_result"
    }
   ],
   "source": [
    "anime.loc[anime['rank']==56, 'episodes'] = '1000' # this is a special anime (one piece) with a TV type but it has a special\n",
    "# number of episodes and the reason why we choose to fix this number is that it is a very famous anime so it is important to \n",
    "# have real informations about it (for example if we try to recommend animes to a person who like long ones a reliable \n",
    "# result must include one piece)\n",
    "\n",
    "anime.loc[anime['episodes']=='Unknown', 'episodes'] = [epis_mode_per_type[i].values[0] for i in anime.loc[anime['episodes']=='Unknown', 'type']]\n",
    "\n",
    "anime['episodes']=anime['episodes'].astype('int')\n",
    "anime['episodes'].unique()"
   ]
  },
  {
   "cell_type": "markdown",
   "metadata": {},
   "source": [
    "#### 2- type column "
   ]
  },
  {
   "cell_type": "code",
   "execution_count": 395,
   "metadata": {},
   "outputs": [
    {
     "data": {
      "text/plain": [
       "array(['TV', 'Movie', 'OVA', 'ONA', 'Special', 'Music'], dtype=object)"
      ]
     },
     "execution_count": 395,
     "metadata": {},
     "output_type": "execute_result"
    }
   ],
   "source": [
    "anime['type'].unique()\n",
    "# our task with this column is to transform it to nemuric data"
   ]
  },
  {
   "cell_type": "code",
   "execution_count": 396,
   "metadata": {},
   "outputs": [
    {
     "data": {
      "text/html": [
       "<div>\n",
       "<style scoped>\n",
       "    .dataframe tbody tr th:only-of-type {\n",
       "        vertical-align: middle;\n",
       "    }\n",
       "\n",
       "    .dataframe tbody tr th {\n",
       "        vertical-align: top;\n",
       "    }\n",
       "\n",
       "    .dataframe thead th {\n",
       "        text-align: right;\n",
       "    }\n",
       "</style>\n",
       "<table border=\"1\" class=\"dataframe\">\n",
       "  <thead>\n",
       "    <tr style=\"text-align: right;\">\n",
       "      <th></th>\n",
       "      <th>rank</th>\n",
       "      <th>score</th>\n",
       "      <th>title</th>\n",
       "      <th>genres</th>\n",
       "      <th>episodes</th>\n",
       "      <th>producers</th>\n",
       "      <th>Movie</th>\n",
       "      <th>Music</th>\n",
       "      <th>ONA</th>\n",
       "      <th>OVA</th>\n",
       "      <th>Special</th>\n",
       "      <th>TV</th>\n",
       "    </tr>\n",
       "  </thead>\n",
       "  <tbody>\n",
       "    <tr>\n",
       "      <th>0</th>\n",
       "      <td>1</td>\n",
       "      <td>9.11</td>\n",
       "      <td>Bleach: Thousand-Year Blood War</td>\n",
       "      <td>['Action', 'Adventure', 'Fantasy']</td>\n",
       "      <td>13</td>\n",
       "      <td>['TV Tokyo', 'Aniplex', 'Dentsu', 'Shueisha']</td>\n",
       "      <td>0</td>\n",
       "      <td>0</td>\n",
       "      <td>0</td>\n",
       "      <td>0</td>\n",
       "      <td>0</td>\n",
       "      <td>1</td>\n",
       "    </tr>\n",
       "    <tr>\n",
       "      <th>1</th>\n",
       "      <td>2</td>\n",
       "      <td>9.11</td>\n",
       "      <td>Fullmetal Alchemist: Brotherhood</td>\n",
       "      <td>['Action', 'Adventure', 'Drama', 'Fantasy']</td>\n",
       "      <td>64</td>\n",
       "      <td>['Aniplex', 'Square Enix', 'Mainichi Broadcast...</td>\n",
       "      <td>0</td>\n",
       "      <td>0</td>\n",
       "      <td>0</td>\n",
       "      <td>0</td>\n",
       "      <td>0</td>\n",
       "      <td>1</td>\n",
       "    </tr>\n",
       "    <tr>\n",
       "      <th>2</th>\n",
       "      <td>3</td>\n",
       "      <td>9.08</td>\n",
       "      <td>Steins;Gate</td>\n",
       "      <td>['Drama', 'Sci-Fi', 'Suspense']</td>\n",
       "      <td>24</td>\n",
       "      <td>['Frontier Works', 'Media Factory', 'Movic', '...</td>\n",
       "      <td>0</td>\n",
       "      <td>0</td>\n",
       "      <td>0</td>\n",
       "      <td>0</td>\n",
       "      <td>0</td>\n",
       "      <td>1</td>\n",
       "    </tr>\n",
       "    <tr>\n",
       "      <th>3</th>\n",
       "      <td>4</td>\n",
       "      <td>9.07</td>\n",
       "      <td>Gintama Season 4</td>\n",
       "      <td>['Action', 'Comedy', 'Sci-Fi']</td>\n",
       "      <td>51</td>\n",
       "      <td>['TV Tokyo', 'Aniplex', 'Dentsu']</td>\n",
       "      <td>0</td>\n",
       "      <td>0</td>\n",
       "      <td>0</td>\n",
       "      <td>0</td>\n",
       "      <td>0</td>\n",
       "      <td>1</td>\n",
       "    </tr>\n",
       "    <tr>\n",
       "      <th>4</th>\n",
       "      <td>5</td>\n",
       "      <td>9.07</td>\n",
       "      <td>Kaguya-sama: Love is War - Ultra Romantic</td>\n",
       "      <td>['Comedy', 'Romance']</td>\n",
       "      <td>13</td>\n",
       "      <td>['Aniplex', 'Mainichi Broadcasting System', 'M...</td>\n",
       "      <td>0</td>\n",
       "      <td>0</td>\n",
       "      <td>0</td>\n",
       "      <td>0</td>\n",
       "      <td>0</td>\n",
       "      <td>1</td>\n",
       "    </tr>\n",
       "    <tr>\n",
       "      <th>...</th>\n",
       "      <td>...</td>\n",
       "      <td>...</td>\n",
       "      <td>...</td>\n",
       "      <td>...</td>\n",
       "      <td>...</td>\n",
       "      <td>...</td>\n",
       "      <td>...</td>\n",
       "      <td>...</td>\n",
       "      <td>...</td>\n",
       "      <td>...</td>\n",
       "      <td>...</td>\n",
       "      <td>...</td>\n",
       "    </tr>\n",
       "    <tr>\n",
       "      <th>4145</th>\n",
       "      <td>4146</td>\n",
       "      <td>6.98</td>\n",
       "      <td>Gunslinger Girl: Il Teatrino OVA</td>\n",
       "      <td>['Action', 'Drama', 'Sci-Fi']</td>\n",
       "      <td>2</td>\n",
       "      <td>['Marvelous']</td>\n",
       "      <td>0</td>\n",
       "      <td>0</td>\n",
       "      <td>0</td>\n",
       "      <td>1</td>\n",
       "      <td>0</td>\n",
       "      <td>0</td>\n",
       "    </tr>\n",
       "    <tr>\n",
       "      <th>4146</th>\n",
       "      <td>4147</td>\n",
       "      <td>6.98</td>\n",
       "      <td>Jewelpet Twinkle☆: Hohoemi no Niji ni Dokki☆Doki!</td>\n",
       "      <td>['Action', 'Drama', 'Sci-Fi']</td>\n",
       "      <td>1</td>\n",
       "      <td>['TV Tokyo', 'Studio Jack']</td>\n",
       "      <td>0</td>\n",
       "      <td>0</td>\n",
       "      <td>0</td>\n",
       "      <td>0</td>\n",
       "      <td>1</td>\n",
       "      <td>0</td>\n",
       "    </tr>\n",
       "    <tr>\n",
       "      <th>4147</th>\n",
       "      <td>4148</td>\n",
       "      <td>6.98</td>\n",
       "      <td>The Jungle Book</td>\n",
       "      <td>['Adventure', 'Drama']</td>\n",
       "      <td>52</td>\n",
       "      <td>['add some']</td>\n",
       "      <td>0</td>\n",
       "      <td>0</td>\n",
       "      <td>0</td>\n",
       "      <td>0</td>\n",
       "      <td>0</td>\n",
       "      <td>1</td>\n",
       "    </tr>\n",
       "    <tr>\n",
       "      <th>4148</th>\n",
       "      <td>4149</td>\n",
       "      <td>6.98</td>\n",
       "      <td>Kagejitsu!</td>\n",
       "      <td>['Comedy', 'Fantasy']</td>\n",
       "      <td>12</td>\n",
       "      <td>['AT-X', 'BS NTV', 'Kadokawa', 'NewGin', 'Aimi...</td>\n",
       "      <td>0</td>\n",
       "      <td>0</td>\n",
       "      <td>1</td>\n",
       "      <td>0</td>\n",
       "      <td>0</td>\n",
       "      <td>0</td>\n",
       "    </tr>\n",
       "    <tr>\n",
       "      <th>4149</th>\n",
       "      <td>4150</td>\n",
       "      <td>6.98</td>\n",
       "      <td>By the Grace of the Gods</td>\n",
       "      <td>['Fantasy', 'Slice of Life']</td>\n",
       "      <td>12</td>\n",
       "      <td>['Lantis', 'Toei Video', 'KlockWorx', 'Nikkats...</td>\n",
       "      <td>0</td>\n",
       "      <td>0</td>\n",
       "      <td>0</td>\n",
       "      <td>0</td>\n",
       "      <td>0</td>\n",
       "      <td>1</td>\n",
       "    </tr>\n",
       "  </tbody>\n",
       "</table>\n",
       "<p>4150 rows × 12 columns</p>\n",
       "</div>"
      ],
      "text/plain": [
       "      rank  score                                              title  \\\n",
       "0        1   9.11                    Bleach: Thousand-Year Blood War   \n",
       "1        2   9.11                   Fullmetal Alchemist: Brotherhood   \n",
       "2        3   9.08                                        Steins;Gate   \n",
       "3        4   9.07                                   Gintama Season 4   \n",
       "4        5   9.07          Kaguya-sama: Love is War - Ultra Romantic   \n",
       "...    ...    ...                                                ...   \n",
       "4145  4146   6.98                   Gunslinger Girl: Il Teatrino OVA   \n",
       "4146  4147   6.98  Jewelpet Twinkle☆: Hohoemi no Niji ni Dokki☆Doki!   \n",
       "4147  4148   6.98                                    The Jungle Book   \n",
       "4148  4149   6.98                                         Kagejitsu!   \n",
       "4149  4150   6.98                           By the Grace of the Gods   \n",
       "\n",
       "                                           genres  episodes  \\\n",
       "0              ['Action', 'Adventure', 'Fantasy']        13   \n",
       "1     ['Action', 'Adventure', 'Drama', 'Fantasy']        64   \n",
       "2                 ['Drama', 'Sci-Fi', 'Suspense']        24   \n",
       "3                  ['Action', 'Comedy', 'Sci-Fi']        51   \n",
       "4                           ['Comedy', 'Romance']        13   \n",
       "...                                           ...       ...   \n",
       "4145                ['Action', 'Drama', 'Sci-Fi']         2   \n",
       "4146                ['Action', 'Drama', 'Sci-Fi']         1   \n",
       "4147                       ['Adventure', 'Drama']        52   \n",
       "4148                        ['Comedy', 'Fantasy']        12   \n",
       "4149                 ['Fantasy', 'Slice of Life']        12   \n",
       "\n",
       "                                              producers  Movie  Music  ONA  \\\n",
       "0         ['TV Tokyo', 'Aniplex', 'Dentsu', 'Shueisha']      0      0    0   \n",
       "1     ['Aniplex', 'Square Enix', 'Mainichi Broadcast...      0      0    0   \n",
       "2     ['Frontier Works', 'Media Factory', 'Movic', '...      0      0    0   \n",
       "3                     ['TV Tokyo', 'Aniplex', 'Dentsu']      0      0    0   \n",
       "4     ['Aniplex', 'Mainichi Broadcasting System', 'M...      0      0    0   \n",
       "...                                                 ...    ...    ...  ...   \n",
       "4145                                      ['Marvelous']      0      0    0   \n",
       "4146                        ['TV Tokyo', 'Studio Jack']      0      0    0   \n",
       "4147                                       ['add some']      0      0    0   \n",
       "4148  ['AT-X', 'BS NTV', 'Kadokawa', 'NewGin', 'Aimi...      0      0    1   \n",
       "4149  ['Lantis', 'Toei Video', 'KlockWorx', 'Nikkats...      0      0    0   \n",
       "\n",
       "      OVA  Special  TV  \n",
       "0       0        0   1  \n",
       "1       0        0   1  \n",
       "2       0        0   1  \n",
       "3       0        0   1  \n",
       "4       0        0   1  \n",
       "...   ...      ...  ..  \n",
       "4145    1        0   0  \n",
       "4146    0        1   0  \n",
       "4147    0        0   1  \n",
       "4148    0        0   0  \n",
       "4149    0        0   1  \n",
       "\n",
       "[4150 rows x 12 columns]"
      ]
     },
     "execution_count": 396,
     "metadata": {},
     "output_type": "execute_result"
    }
   ],
   "source": [
    "# Create a new dataframe with one-hot encoded type\n",
    "types_df = pd.get_dummies(anime['type'])\n",
    "# Concatenate the original dataframe with the one-hot encoded type dataframe\n",
    "anime = pd.concat([anime, types_df], axis=1)\n",
    "# Drop the original 'type' column\n",
    "anime.drop(['type'], axis=1, inplace=True)\n",
    "# Print the updated dataframe\n",
    "anime"
   ]
  },
  {
   "cell_type": "markdown",
   "metadata": {},
   "source": [
    "#### 3- producers columns "
   ]
  },
  {
   "cell_type": "code",
   "execution_count": 397,
   "metadata": {},
   "outputs": [
    {
     "name": "stdout",
     "output_type": "stream",
     "text": [
      "['TV Tokyo', 'Aniplex', 'Dentsu', 'Shueisha']\n",
      "<class 'str'>\n",
      "1973\n",
      "False\n"
     ]
    }
   ],
   "source": [
    "print(anime['producers'].unique()[0]) \n",
    "print(type(anime['producers'].unique()[0])) # we have str type not a list of strings\n",
    "print(len(anime['producers'].unique()))\n",
    "print(\"[]\" in anime['producers'].unique()) # we check if there are any null values"
   ]
  },
  {
   "cell_type": "code",
   "execution_count": 398,
   "metadata": {},
   "outputs": [
    {
     "name": "stdout",
     "output_type": "stream",
     "text": [
      "['TVTokyo', 'Aniplex', 'Dentsu', 'Shueisha']\n",
      "<class 'list'>\n"
     ]
    }
   ],
   "source": [
    "# firstly we need to replace each value (type string) to a list of strings \n",
    "anime['producers'] = anime['producers'].apply(lambda x: re.sub(r\"\\[|\\]|\\'| \",\"\",x).split(','))\n",
    "print(anime['producers'][0])\n",
    "print(type(anime['producers'][0]))"
   ]
  },
  {
   "cell_type": "code",
   "execution_count": 399,
   "metadata": {},
   "outputs": [
    {
     "name": "stdout",
     "output_type": "stream",
     "text": [
      "[('addsome', 1021), ('Aniplex', 370), ('TVTokyo', 278), ('Dentsu', 255), ('Movic', 239)]\n",
      "the number of unique producers :  758\n",
      "the number of producers which work in more than 50 animes : 54\n"
     ]
    }
   ],
   "source": [
    "# now we have to find the unique producers because for one anime we can have many producers and if we try one-hot encoder\n",
    "# directly we will have non-significant results because our goal is to find if a producer contribute to the production of \n",
    "# an anime but if we use one-hot encoder directly we will check for a list of producers not a single producer \n",
    "from collections import Counter\n",
    "s=[]\n",
    "# here we create a list of all producers (with duplications)\n",
    "for i in anime['producers'].values:\n",
    "    s+=i\n",
    "# then we use the Counter to calculate the occurrence of each producer then we sort the results by occurrence\n",
    "# (most frequent first) using most_common() method\n",
    "print(Counter(s).most_common()[:5])\n",
    "print(\"the number of unique producers : \",len(Counter(s).most_common())) \n",
    "# we have 758 different producers but a lot of them are not famous (they work in few animes) so we need to filter them out\n",
    "print(\"the number of producers which work in more than 50 animes :\",len([i for i in Counter(s).most_common() if i[1]>=50]))"
   ]
  },
  {
   "cell_type": "code",
   "execution_count": 400,
   "metadata": {},
   "outputs": [
    {
     "data": {
      "text/html": [
       "<div>\n",
       "<style scoped>\n",
       "    .dataframe tbody tr th:only-of-type {\n",
       "        vertical-align: middle;\n",
       "    }\n",
       "\n",
       "    .dataframe tbody tr th {\n",
       "        vertical-align: top;\n",
       "    }\n",
       "\n",
       "    .dataframe thead th {\n",
       "        text-align: right;\n",
       "    }\n",
       "</style>\n",
       "<table border=\"1\" class=\"dataframe\">\n",
       "  <thead>\n",
       "    <tr style=\"text-align: right;\">\n",
       "      <th></th>\n",
       "      <th>producers</th>\n",
       "      <th>Aniplex</th>\n",
       "      <th>Dentsu</th>\n",
       "    </tr>\n",
       "  </thead>\n",
       "  <tbody>\n",
       "    <tr>\n",
       "      <th>0</th>\n",
       "      <td>[TVTokyo, Aniplex, Dentsu, Shueisha]</td>\n",
       "      <td>1</td>\n",
       "      <td>1</td>\n",
       "    </tr>\n",
       "    <tr>\n",
       "      <th>1</th>\n",
       "      <td>[Aniplex, SquareEnix, MainichiBroadcastingSyst...</td>\n",
       "      <td>1</td>\n",
       "      <td>0</td>\n",
       "    </tr>\n",
       "    <tr>\n",
       "      <th>2</th>\n",
       "      <td>[FrontierWorks, MediaFactory, Movic, AT-X, Kad...</td>\n",
       "      <td>0</td>\n",
       "      <td>0</td>\n",
       "    </tr>\n",
       "    <tr>\n",
       "      <th>3</th>\n",
       "      <td>[TVTokyo, Aniplex, Dentsu]</td>\n",
       "      <td>1</td>\n",
       "      <td>1</td>\n",
       "    </tr>\n",
       "    <tr>\n",
       "      <th>4</th>\n",
       "      <td>[Aniplex, MainichiBroadcastingSystem, MagicCap...</td>\n",
       "      <td>1</td>\n",
       "      <td>0</td>\n",
       "    </tr>\n",
       "  </tbody>\n",
       "</table>\n",
       "</div>"
      ],
      "text/plain": [
       "                                           producers  Aniplex  Dentsu\n",
       "0               [TVTokyo, Aniplex, Dentsu, Shueisha]        1       1\n",
       "1  [Aniplex, SquareEnix, MainichiBroadcastingSyst...        1       0\n",
       "2  [FrontierWorks, MediaFactory, Movic, AT-X, Kad...        0       0\n",
       "3                         [TVTokyo, Aniplex, Dentsu]        1       1\n",
       "4  [Aniplex, MainichiBroadcastingSystem, MagicCap...        1       0"
      ]
     },
     "execution_count": 400,
     "metadata": {},
     "output_type": "execute_result"
    }
   ],
   "source": [
    "# now we will create a new column for each producer which work in more than 50 animes \n",
    "for producer in [i[0] for i in Counter(s).most_common() if i[1]>=50]:\n",
    "    anime[producer] = anime['producers'].apply(lambda x:1 if (producer in x) else 0)\n",
    "anime[['producers','Aniplex','Dentsu']].head()"
   ]
  },
  {
   "cell_type": "code",
   "execution_count": 401,
   "metadata": {},
   "outputs": [],
   "source": [
    "anime.drop(['producers'], axis=1, inplace=True)"
   ]
  },
  {
   "cell_type": "markdown",
   "metadata": {},
   "source": [
    "#### 4- genres columns   `(Same work we did on the previous column)`"
   ]
  },
  {
   "cell_type": "code",
   "execution_count": 402,
   "metadata": {},
   "outputs": [
    {
     "name": "stdout",
     "output_type": "stream",
     "text": [
      "['Action', 'Adventure', 'Fantasy']\n",
      "<class 'str'>\n",
      "545\n",
      "False\n"
     ]
    }
   ],
   "source": [
    "print(anime['genres'].unique()[0])\n",
    "print(type(anime['genres'].unique()[0])) # we have str type not a list of strings\n",
    "print(len(anime['genres'].unique()))\n",
    "print(\"[]\" in anime['genres'].unique()) # we check if there are any null values"
   ]
  },
  {
   "cell_type": "code",
   "execution_count": 403,
   "metadata": {},
   "outputs": [
    {
     "name": "stdout",
     "output_type": "stream",
     "text": [
      "['Action', 'Adventure', 'Fantasy']\n",
      "<class 'list'>\n"
     ]
    }
   ],
   "source": [
    "# firstly we need to replace each value (type string) to a list of strings \n",
    "anime['genres'] = anime['genres'].apply(lambda x: re.sub(r\"\\[|\\]|\\'| \",\"\",x).split(','))\n",
    "print(anime['genres'][0])\n",
    "print(type(anime['genres'][0]))"
   ]
  },
  {
   "cell_type": "code",
   "execution_count": 404,
   "metadata": {},
   "outputs": [
    {
     "name": "stdout",
     "output_type": "stream",
     "text": [
      "[('Action', 1857), ('Comedy', 1806), ('Fantasy', 1345), ('Adventure', 1249), ('Drama', 1223)]\n",
      "the number of unique genres :  19\n"
     ]
    }
   ],
   "source": [
    "from collections import Counter\n",
    "g=[]\n",
    "# here we create a list of all genres (with duplications)\n",
    "for i in anime['genres'].values:\n",
    "    g+=i\n",
    "# then we use the Counter to calculate the occurrence of each genre then we sort the results by occurrence\n",
    "# (most frequent first) using most_common() method\n",
    "print(Counter(g).most_common()[:5])\n",
    "print(\"the number of unique genres : \",len(Counter(g).most_common())) \n",
    "# we have only 19 different genres so we don't need to filter them out"
   ]
  },
  {
   "cell_type": "code",
   "execution_count": 405,
   "metadata": {},
   "outputs": [
    {
     "data": {
      "text/html": [
       "<div>\n",
       "<style scoped>\n",
       "    .dataframe tbody tr th:only-of-type {\n",
       "        vertical-align: middle;\n",
       "    }\n",
       "\n",
       "    .dataframe tbody tr th {\n",
       "        vertical-align: top;\n",
       "    }\n",
       "\n",
       "    .dataframe thead th {\n",
       "        text-align: right;\n",
       "    }\n",
       "</style>\n",
       "<table border=\"1\" class=\"dataframe\">\n",
       "  <thead>\n",
       "    <tr style=\"text-align: right;\">\n",
       "      <th></th>\n",
       "      <th>genres</th>\n",
       "      <th>Action</th>\n",
       "      <th>Adventure</th>\n",
       "      <th>Drama</th>\n",
       "    </tr>\n",
       "  </thead>\n",
       "  <tbody>\n",
       "    <tr>\n",
       "      <th>0</th>\n",
       "      <td>[Action, Adventure, Fantasy]</td>\n",
       "      <td>1</td>\n",
       "      <td>1</td>\n",
       "      <td>0</td>\n",
       "    </tr>\n",
       "    <tr>\n",
       "      <th>1</th>\n",
       "      <td>[Action, Adventure, Drama, Fantasy]</td>\n",
       "      <td>1</td>\n",
       "      <td>1</td>\n",
       "      <td>1</td>\n",
       "    </tr>\n",
       "    <tr>\n",
       "      <th>2</th>\n",
       "      <td>[Drama, Sci-Fi, Suspense]</td>\n",
       "      <td>0</td>\n",
       "      <td>0</td>\n",
       "      <td>1</td>\n",
       "    </tr>\n",
       "    <tr>\n",
       "      <th>3</th>\n",
       "      <td>[Action, Comedy, Sci-Fi]</td>\n",
       "      <td>1</td>\n",
       "      <td>0</td>\n",
       "      <td>0</td>\n",
       "    </tr>\n",
       "    <tr>\n",
       "      <th>4</th>\n",
       "      <td>[Comedy, Romance]</td>\n",
       "      <td>0</td>\n",
       "      <td>0</td>\n",
       "      <td>0</td>\n",
       "    </tr>\n",
       "  </tbody>\n",
       "</table>\n",
       "</div>"
      ],
      "text/plain": [
       "                                genres  Action  Adventure  Drama\n",
       "0         [Action, Adventure, Fantasy]       1          1      0\n",
       "1  [Action, Adventure, Drama, Fantasy]       1          1      1\n",
       "2            [Drama, Sci-Fi, Suspense]       0          0      1\n",
       "3             [Action, Comedy, Sci-Fi]       1          0      0\n",
       "4                    [Comedy, Romance]       0          0      0"
      ]
     },
     "execution_count": 405,
     "metadata": {},
     "output_type": "execute_result"
    }
   ],
   "source": [
    "# now we will create a new column for each producer which work in more than 50 animes \n",
    "for genre in [i[0] for i in Counter(g).most_common()]:\n",
    "    anime[genre] = anime['genres'].apply(lambda x:1 if (genre in x) else 0)\n",
    "anime[['genres','Action','Adventure','Drama']].head()"
   ]
  },
  {
   "cell_type": "code",
   "execution_count": 406,
   "metadata": {},
   "outputs": [
    {
     "name": "stdout",
     "output_type": "stream",
     "text": [
      "(4150, 83)\n"
     ]
    },
    {
     "data": {
      "text/plain": [
       "Index(['rank', 'score', 'title', 'episodes', 'Movie', 'Music', 'ONA', 'OVA',\n",
       "       'Special', 'TV', 'addsome', 'Aniplex', 'TVTokyo', 'Dentsu', 'Movic',\n",
       "       'Lantis', 'Kodansha', 'BandaiVisual', 'Shueisha', 'AT-X', 'FujiTV',\n",
       "       'PonyCanyon', 'MainichiBroadcastingSystem', 'KlockWorx', 'Sotsu',\n",
       "       'Kadokawa', 'KadokawaShoten', 'TBS', 'TOHOanimation',\n",
       "       'StarchildRecords', 'flyingDOG', 'Shochiku', 'TokyoMX', 'FrontierWorks',\n",
       "       'NihonAdSystems', 'Shogakukan-ShueishaProductions', 'DAXProduction',\n",
       "       'VAP', 'SonyMusicEntertainment', 'SquareEnix', 'MediaFactory',\n",
       "       'MagicCapsule', 'TVAsahi', 'NipponTelevisionNetwork', 'Showgate',\n",
       "       'WarnerBros.Japan', 'BS11', 'GeneonUniversalEntertainment', 'NHK',\n",
       "       'Toho', 'Genco', 'TencentPenguinPictures', 'HakuhodoDYMusic&Pictures',\n",
       "       'GoodSmileCompany', 'bilibili', 'KingRecords', 'Shogakukan',\n",
       "       'AvexPictures', 'TVTokyoMusic', 'ProductionI.G', 'KadokawaMediaHouse',\n",
       "       'HalfH.PStudio', 'AsmikAce', 'Bushiroad', 'Action', 'Comedy', 'Fantasy',\n",
       "       'Adventure', 'Drama', 'Romance', 'Sci-Fi', 'Supernatural', 'Mystery',\n",
       "       'SliceofLife', 'Ecchi', 'AwardWinning', 'Horror', 'Suspense', 'Sports',\n",
       "       'Gourmet', 'BoysLove', 'GirlsLove', 'AvantGarde'],\n",
       "      dtype='object')"
      ]
     },
     "execution_count": 406,
     "metadata": {},
     "output_type": "execute_result"
    }
   ],
   "source": [
    "anime.drop(['genres'], axis=1, inplace=True)\n",
    "print(anime.shape)\n",
    "anime.columns"
   ]
  },
  {
   "cell_type": "markdown",
   "metadata": {},
   "source": [
    "---\n",
    "---\n",
    "## <center> `Data description and visualization`"
   ]
  },
  {
   "cell_type": "code",
   "execution_count": 407,
   "metadata": {},
   "outputs": [
    {
     "data": {
      "text/html": [
       "<div>\n",
       "<style scoped>\n",
       "    .dataframe tbody tr th:only-of-type {\n",
       "        vertical-align: middle;\n",
       "    }\n",
       "\n",
       "    .dataframe tbody tr th {\n",
       "        vertical-align: top;\n",
       "    }\n",
       "\n",
       "    .dataframe thead th {\n",
       "        text-align: right;\n",
       "    }\n",
       "</style>\n",
       "<table border=\"1\" class=\"dataframe\">\n",
       "  <thead>\n",
       "    <tr style=\"text-align: right;\">\n",
       "      <th></th>\n",
       "      <th>score</th>\n",
       "      <th>episodes</th>\n",
       "      <th>Movie</th>\n",
       "      <th>Music</th>\n",
       "      <th>ONA</th>\n",
       "      <th>OVA</th>\n",
       "      <th>Special</th>\n",
       "      <th>TV</th>\n",
       "      <th>addsome</th>\n",
       "      <th>Aniplex</th>\n",
       "      <th>...</th>\n",
       "      <th>SliceofLife</th>\n",
       "      <th>Ecchi</th>\n",
       "      <th>AwardWinning</th>\n",
       "      <th>Horror</th>\n",
       "      <th>Suspense</th>\n",
       "      <th>Sports</th>\n",
       "      <th>Gourmet</th>\n",
       "      <th>BoysLove</th>\n",
       "      <th>GirlsLove</th>\n",
       "      <th>AvantGarde</th>\n",
       "    </tr>\n",
       "  </thead>\n",
       "  <tbody>\n",
       "    <tr>\n",
       "      <th>count</th>\n",
       "      <td>4150.000000</td>\n",
       "      <td>4150.000000</td>\n",
       "      <td>4150.000000</td>\n",
       "      <td>4150.000000</td>\n",
       "      <td>4150.000000</td>\n",
       "      <td>4150.000000</td>\n",
       "      <td>4150.000000</td>\n",
       "      <td>4150.000000</td>\n",
       "      <td>4150.000000</td>\n",
       "      <td>4150.000000</td>\n",
       "      <td>...</td>\n",
       "      <td>4150.000000</td>\n",
       "      <td>4150.000000</td>\n",
       "      <td>4150.000000</td>\n",
       "      <td>4150.000000</td>\n",
       "      <td>4150.000000</td>\n",
       "      <td>4150.000000</td>\n",
       "      <td>4150.000000</td>\n",
       "      <td>4150.000000</td>\n",
       "      <td>4150.000000</td>\n",
       "      <td>4150.000000</td>\n",
       "    </tr>\n",
       "    <tr>\n",
       "      <th>mean</th>\n",
       "      <td>7.514067</td>\n",
       "      <td>16.122169</td>\n",
       "      <td>0.198795</td>\n",
       "      <td>0.024819</td>\n",
       "      <td>0.068916</td>\n",
       "      <td>0.114940</td>\n",
       "      <td>0.108916</td>\n",
       "      <td>0.483614</td>\n",
       "      <td>0.246024</td>\n",
       "      <td>0.089157</td>\n",
       "      <td>...</td>\n",
       "      <td>0.090602</td>\n",
       "      <td>0.055663</td>\n",
       "      <td>0.041928</td>\n",
       "      <td>0.036627</td>\n",
       "      <td>0.027470</td>\n",
       "      <td>0.024096</td>\n",
       "      <td>0.014458</td>\n",
       "      <td>0.012289</td>\n",
       "      <td>0.011807</td>\n",
       "      <td>0.006988</td>\n",
       "    </tr>\n",
       "    <tr>\n",
       "      <th>std</th>\n",
       "      <td>0.415456</td>\n",
       "      <td>42.053023</td>\n",
       "      <td>0.399142</td>\n",
       "      <td>0.155593</td>\n",
       "      <td>0.253341</td>\n",
       "      <td>0.318988</td>\n",
       "      <td>0.311571</td>\n",
       "      <td>0.499792</td>\n",
       "      <td>0.430745</td>\n",
       "      <td>0.285004</td>\n",
       "      <td>...</td>\n",
       "      <td>0.287077</td>\n",
       "      <td>0.229297</td>\n",
       "      <td>0.200448</td>\n",
       "      <td>0.187866</td>\n",
       "      <td>0.163468</td>\n",
       "      <td>0.153367</td>\n",
       "      <td>0.119383</td>\n",
       "      <td>0.110186</td>\n",
       "      <td>0.108031</td>\n",
       "      <td>0.083311</td>\n",
       "    </tr>\n",
       "    <tr>\n",
       "      <th>min</th>\n",
       "      <td>6.980000</td>\n",
       "      <td>1.000000</td>\n",
       "      <td>0.000000</td>\n",
       "      <td>0.000000</td>\n",
       "      <td>0.000000</td>\n",
       "      <td>0.000000</td>\n",
       "      <td>0.000000</td>\n",
       "      <td>0.000000</td>\n",
       "      <td>0.000000</td>\n",
       "      <td>0.000000</td>\n",
       "      <td>...</td>\n",
       "      <td>0.000000</td>\n",
       "      <td>0.000000</td>\n",
       "      <td>0.000000</td>\n",
       "      <td>0.000000</td>\n",
       "      <td>0.000000</td>\n",
       "      <td>0.000000</td>\n",
       "      <td>0.000000</td>\n",
       "      <td>0.000000</td>\n",
       "      <td>0.000000</td>\n",
       "      <td>0.000000</td>\n",
       "    </tr>\n",
       "    <tr>\n",
       "      <th>25%</th>\n",
       "      <td>7.200000</td>\n",
       "      <td>1.000000</td>\n",
       "      <td>0.000000</td>\n",
       "      <td>0.000000</td>\n",
       "      <td>0.000000</td>\n",
       "      <td>0.000000</td>\n",
       "      <td>0.000000</td>\n",
       "      <td>0.000000</td>\n",
       "      <td>0.000000</td>\n",
       "      <td>0.000000</td>\n",
       "      <td>...</td>\n",
       "      <td>0.000000</td>\n",
       "      <td>0.000000</td>\n",
       "      <td>0.000000</td>\n",
       "      <td>0.000000</td>\n",
       "      <td>0.000000</td>\n",
       "      <td>0.000000</td>\n",
       "      <td>0.000000</td>\n",
       "      <td>0.000000</td>\n",
       "      <td>0.000000</td>\n",
       "      <td>0.000000</td>\n",
       "    </tr>\n",
       "    <tr>\n",
       "      <th>50%</th>\n",
       "      <td>7.410000</td>\n",
       "      <td>12.000000</td>\n",
       "      <td>0.000000</td>\n",
       "      <td>0.000000</td>\n",
       "      <td>0.000000</td>\n",
       "      <td>0.000000</td>\n",
       "      <td>0.000000</td>\n",
       "      <td>0.000000</td>\n",
       "      <td>0.000000</td>\n",
       "      <td>0.000000</td>\n",
       "      <td>...</td>\n",
       "      <td>0.000000</td>\n",
       "      <td>0.000000</td>\n",
       "      <td>0.000000</td>\n",
       "      <td>0.000000</td>\n",
       "      <td>0.000000</td>\n",
       "      <td>0.000000</td>\n",
       "      <td>0.000000</td>\n",
       "      <td>0.000000</td>\n",
       "      <td>0.000000</td>\n",
       "      <td>0.000000</td>\n",
       "    </tr>\n",
       "    <tr>\n",
       "      <th>75%</th>\n",
       "      <td>7.740000</td>\n",
       "      <td>17.000000</td>\n",
       "      <td>0.000000</td>\n",
       "      <td>0.000000</td>\n",
       "      <td>0.000000</td>\n",
       "      <td>0.000000</td>\n",
       "      <td>0.000000</td>\n",
       "      <td>1.000000</td>\n",
       "      <td>0.000000</td>\n",
       "      <td>0.000000</td>\n",
       "      <td>...</td>\n",
       "      <td>0.000000</td>\n",
       "      <td>0.000000</td>\n",
       "      <td>0.000000</td>\n",
       "      <td>0.000000</td>\n",
       "      <td>0.000000</td>\n",
       "      <td>0.000000</td>\n",
       "      <td>0.000000</td>\n",
       "      <td>0.000000</td>\n",
       "      <td>0.000000</td>\n",
       "      <td>0.000000</td>\n",
       "    </tr>\n",
       "    <tr>\n",
       "      <th>max</th>\n",
       "      <td>9.110000</td>\n",
       "      <td>1787.000000</td>\n",
       "      <td>1.000000</td>\n",
       "      <td>1.000000</td>\n",
       "      <td>1.000000</td>\n",
       "      <td>1.000000</td>\n",
       "      <td>1.000000</td>\n",
       "      <td>1.000000</td>\n",
       "      <td>1.000000</td>\n",
       "      <td>1.000000</td>\n",
       "      <td>...</td>\n",
       "      <td>1.000000</td>\n",
       "      <td>1.000000</td>\n",
       "      <td>1.000000</td>\n",
       "      <td>1.000000</td>\n",
       "      <td>1.000000</td>\n",
       "      <td>1.000000</td>\n",
       "      <td>1.000000</td>\n",
       "      <td>1.000000</td>\n",
       "      <td>1.000000</td>\n",
       "      <td>1.000000</td>\n",
       "    </tr>\n",
       "  </tbody>\n",
       "</table>\n",
       "<p>8 rows × 81 columns</p>\n",
       "</div>"
      ],
      "text/plain": [
       "             score     episodes        Movie        Music          ONA  \\\n",
       "count  4150.000000  4150.000000  4150.000000  4150.000000  4150.000000   \n",
       "mean      7.514067    16.122169     0.198795     0.024819     0.068916   \n",
       "std       0.415456    42.053023     0.399142     0.155593     0.253341   \n",
       "min       6.980000     1.000000     0.000000     0.000000     0.000000   \n",
       "25%       7.200000     1.000000     0.000000     0.000000     0.000000   \n",
       "50%       7.410000    12.000000     0.000000     0.000000     0.000000   \n",
       "75%       7.740000    17.000000     0.000000     0.000000     0.000000   \n",
       "max       9.110000  1787.000000     1.000000     1.000000     1.000000   \n",
       "\n",
       "               OVA      Special           TV      addsome      Aniplex  ...  \\\n",
       "count  4150.000000  4150.000000  4150.000000  4150.000000  4150.000000  ...   \n",
       "mean      0.114940     0.108916     0.483614     0.246024     0.089157  ...   \n",
       "std       0.318988     0.311571     0.499792     0.430745     0.285004  ...   \n",
       "min       0.000000     0.000000     0.000000     0.000000     0.000000  ...   \n",
       "25%       0.000000     0.000000     0.000000     0.000000     0.000000  ...   \n",
       "50%       0.000000     0.000000     0.000000     0.000000     0.000000  ...   \n",
       "75%       0.000000     0.000000     1.000000     0.000000     0.000000  ...   \n",
       "max       1.000000     1.000000     1.000000     1.000000     1.000000  ...   \n",
       "\n",
       "       SliceofLife        Ecchi  AwardWinning       Horror     Suspense  \\\n",
       "count  4150.000000  4150.000000   4150.000000  4150.000000  4150.000000   \n",
       "mean      0.090602     0.055663      0.041928     0.036627     0.027470   \n",
       "std       0.287077     0.229297      0.200448     0.187866     0.163468   \n",
       "min       0.000000     0.000000      0.000000     0.000000     0.000000   \n",
       "25%       0.000000     0.000000      0.000000     0.000000     0.000000   \n",
       "50%       0.000000     0.000000      0.000000     0.000000     0.000000   \n",
       "75%       0.000000     0.000000      0.000000     0.000000     0.000000   \n",
       "max       1.000000     1.000000      1.000000     1.000000     1.000000   \n",
       "\n",
       "            Sports      Gourmet     BoysLove    GirlsLove   AvantGarde  \n",
       "count  4150.000000  4150.000000  4150.000000  4150.000000  4150.000000  \n",
       "mean      0.024096     0.014458     0.012289     0.011807     0.006988  \n",
       "std       0.153367     0.119383     0.110186     0.108031     0.083311  \n",
       "min       0.000000     0.000000     0.000000     0.000000     0.000000  \n",
       "25%       0.000000     0.000000     0.000000     0.000000     0.000000  \n",
       "50%       0.000000     0.000000     0.000000     0.000000     0.000000  \n",
       "75%       0.000000     0.000000     0.000000     0.000000     0.000000  \n",
       "max       1.000000     1.000000     1.000000     1.000000     1.000000  \n",
       "\n",
       "[8 rows x 81 columns]"
      ]
     },
     "execution_count": 407,
     "metadata": {},
     "output_type": "execute_result"
    }
   ],
   "source": [
    "anime.drop(['title','rank'], axis=1).describe()\n",
    "# thankfully we don't have range problems (for example the max of scores < 10)"
   ]
  },
  {
   "cell_type": "code",
   "execution_count": 408,
   "metadata": {},
   "outputs": [
    {
     "data": {
      "text/plain": [
       "<AxesSubplot:xlabel='score', ylabel='Count'>"
      ]
     },
     "execution_count": 408,
     "metadata": {},
     "output_type": "execute_result"
    },
    {
     "data": {
      "image/png": "[encoded data removed]",
      "text/plain": [
       "<Figure size 432x288 with 1 Axes>"
      ]
     },
     "metadata": {
      "needs_background": "light"
     },
     "output_type": "display_data"
    }
   ],
   "source": [
    "# the distribution of scores\n",
    "sns.histplot(data=anime, x='score')"
   ]
  },
  {
   "cell_type": "markdown",
   "metadata": {},
   "source": [
    "we can conclude that there are a few animes with high scores(>8.5) and the majority of scores are between 7 and 7.5"
   ]
  },
  {
   "cell_type": "code",
   "execution_count": 409,
   "metadata": {},
   "outputs": [
    {
     "data": {
      "text/plain": [
       "<AxesSubplot:ylabel='episodes'>"
      ]
     },
     "execution_count": 409,
     "metadata": {},
     "output_type": "execute_result"
    },
    {
     "data": {
      "image/png": "[encoded data removed]",
      "text/plain": [
       "<Figure size 432x288 with 1 Axes>"
      ]
     },
     "metadata": {
      "needs_background": "light"
     },
     "output_type": "display_data"
    }
   ],
   "source": [
    "# the distribution of episodes\n",
    "sns.boxplot(data=anime, y='episodes')"
   ]
  },
  {
   "cell_type": "markdown",
   "metadata": {},
   "source": [
    "we can see that the majority of animes have a number of episodes < 100 but we have some outliers"
   ]
  },
  {
   "cell_type": "code",
   "execution_count": 410,
   "metadata": {},
   "outputs": [
    {
     "data": {
      "text/plain": [
       "<AxesSubplot:ylabel='episodes'>"
      ]
     },
     "execution_count": 410,
     "metadata": {},
     "output_type": "execute_result"
    },
    {
     "data": {
      "image/png": "[encoded data removed]",
      "text/plain": [
       "<Figure size 432x288 with 1 Axes>"
      ]
     },
     "metadata": {
      "needs_background": "light"
     },
     "output_type": "display_data"
    }
   ],
   "source": [
    "sns.boxplot(data=anime[anime['episodes']<=100], y='episodes')"
   ]
  },
  {
   "cell_type": "code",
   "execution_count": 411,
   "metadata": {},
   "outputs": [
    {
     "data": {
      "text/plain": [
       "([<matplotlib.patches.Wedge at 0x1d5f00a6100>,\n",
       "  <matplotlib.patches.Wedge at 0x1d5f00a65e0>,\n",
       "  <matplotlib.patches.Wedge at 0x1d5f00a6ac0>,\n",
       "  <matplotlib.patches.Wedge at 0x1d5f00a6fa0>],\n",
       " [Text(-0.7692329713304488, 0.7863082320681434, 'epis <= 15'),\n",
       "  Text(0.45702542945947294, -1.0005637195238415, '30 < epis <= 100'),\n",
       "  Text(1.013294965123107, -0.42805760553477085, '15 < epis <= 30'),\n",
       "  Text(1.0984115352186992, -0.05909398699106775, 'epis > 100')])"
      ]
     },
     "execution_count": 411,
     "metadata": {},
     "output_type": "execute_result"
    },
    {
     "data": {
      "image/png": "[encoded data removed]",
      "text/plain": [
       "<Figure size 432x288 with 1 Axes>"
      ]
     },
     "metadata": {},
     "output_type": "display_data"
    }
   ],
   "source": [
    "# also we can use a pie chart\n",
    "anime['filter']=anime['episodes'].apply(lambda x : \"epis <= 15\" if x<=15 \\\n",
    "                    else \"15 < epis <= 30\" if (x>15)and(x<=30) \\\n",
    "                    else \"30 < epis <= 100\" if (x>30)and(x<=100) \\\n",
    "                    else \"epis > 100\")\n",
    "plt.pie(anime['filter'].value_counts()/len(anime['filter']) * 100, labels = anime['filter'].unique())"
   ]
  },
  {
   "cell_type": "markdown",
   "metadata": {},
   "source": [
    "now we can specify more and say that the majority of animes have less than 15 episodes"
   ]
  },
  {
   "cell_type": "code",
   "execution_count": 412,
   "metadata": {},
   "outputs": [
    {
     "data": {
      "text/plain": [
       "(array([0, 1, 2, 3]),\n",
       " [Text(0, 0, 'epis <= 15'),\n",
       "  Text(1, 0, '30 < epis <= 100'),\n",
       "  Text(2, 0, '15 < epis <= 30'),\n",
       "  Text(3, 0, 'epis > 100')])"
      ]
     },
     "execution_count": 412,
     "metadata": {},
     "output_type": "execute_result"
    },
    {
     "data": {
      "image/png": "[encoded data removed]",
      "text/plain": [
       "<Figure size 432x288 with 1 Axes>"
      ]
     },
     "metadata": {
      "needs_background": "light"
     },
     "output_type": "display_data"
    }
   ],
   "source": [
    "# how does the number of episodes influences the score\n",
    "sns.boxplot(data= anime, x=\"filter\" , y='score')\n",
    "plt.xticks(rotation=15)"
   ]
  },
  {
   "cell_type": "markdown",
   "metadata": {},
   "source": [
    "se we can see that for all categories scores are close and long animes have a higher score compared to other categories but we have outliers (for example there are some short animes that have a higher score)"
   ]
  },
  {
   "cell_type": "code",
   "execution_count": 413,
   "metadata": {},
   "outputs": [
    {
     "data": {
      "text/plain": [
       "<AxesSubplot:xlabel='type', ylabel='count'>"
      ]
     },
     "execution_count": 413,
     "metadata": {},
     "output_type": "execute_result"
    },
    {
     "data": {
      "image/png": "[encoded data removed]",
      "text/plain": [
       "<Figure size 432x288 with 1 Axes>"
      ]
     },
     "metadata": {
      "needs_background": "light"
     },
     "output_type": "display_data"
    }
   ],
   "source": [
    "# now let's see the distribution of types \n",
    "sns.countplot(data=df, x='type')"
   ]
  },
  {
   "cell_type": "code",
   "execution_count": 414,
   "metadata": {},
   "outputs": [
    {
     "data": {
      "text/plain": [
       "(6.0, 9.0)"
      ]
     },
     "execution_count": 414,
     "metadata": {},
     "output_type": "execute_result"
    },
    {
     "data": {
      "image/png": "[encoded data removed]",
      "text/plain": [
       "<Figure size 432x288 with 1 Axes>"
      ]
     },
     "metadata": {
      "needs_background": "light"
     },
     "output_type": "display_data"
    }
   ],
   "source": [
    "# how does the type of animes influences the score\n",
    "ax=sns.barplot(x='type',y='score',data=df)\n",
    "ax.set_ylim([6,9])"
   ]
  },
  {
   "cell_type": "code",
   "execution_count": 415,
   "metadata": {},
   "outputs": [
    {
     "data": {
      "image/png": "[encoded data removed]",
      "text/plain": [
       "<Figure size 432x288 with 1 Axes>"
      ]
     },
     "metadata": {
      "needs_background": "light"
     },
     "output_type": "display_data"
    }
   ],
   "source": [
    "# how does the type of animes influences the score\n",
    "\n",
    "# Create a list of scores for each anime type\n",
    "scores_by_type = []\n",
    "type_labels = []\n",
    "\n",
    "for anime_type in df['type'].unique():\n",
    "    scores_by_type.append(df.score[df.type == anime_type].values)\n",
    "    type_labels.append(anime_type)\n",
    "\n",
    "# Create the histogram\n",
    "n_bins = 15\n",
    "fig, ax = plt.subplots()\n",
    "_, _, patches = ax.hist(scores_by_type, bins=n_bins, stacked=True, rwidth=1, label=type_labels, edgecolor='black')\n",
    "ax.set_xlabel('Score')\n",
    "ax.set_ylabel('Number of Anime')\n",
    "ax.set_title('Distribution of Anime Scores by Type')\n",
    "ax.set_xlim([6.9, 9.5])\n",
    "ax.grid(alpha=0.5)\n",
    "\n",
    "# Add outlines to bins\n",
    "for patch in patches:\n",
    "    for rect in patch:\n",
    "        rect.set_edgecolor('black')\n",
    "\n",
    "ax.legend()\n",
    "plt.show()\n"
   ]
  },
  {
   "cell_type": "markdown",
   "metadata": {},
   "source": [
    "we can see that animes which have high scores (>8.5) are either TV or Movies so we can say that people like more TVs and movies"
   ]
  },
  {
   "cell_type": "code",
   "execution_count": 416,
   "metadata": {},
   "outputs": [
    {
     "data": {
      "image/png": "[encoded data removed]",
      "text/plain": [
       "<Figure size 864x1296 with 24 Axes>"
      ]
     },
     "metadata": {
      "needs_background": "light"
     },
     "output_type": "display_data"
    }
   ],
   "source": [
    "df['filter']=anime['filter']\n",
    "g = sns.FacetGrid(df, row='type', col='filter') # we created grid to populate our figure in it\n",
    "g = g.map(plt.hist,'score')\n",
    "anime.drop(['filter'], axis=1, inplace=True)"
   ]
  },
  {
   "cell_type": "markdown",
   "metadata": {},
   "source": [
    "this plot show that people like short animes espicialy of type TV"
   ]
  },
  {
   "cell_type": "code",
   "execution_count": 417,
   "metadata": {},
   "outputs": [
    {
     "data": {
      "image/png": "[encoded data removed]",
      "text/plain": [
       "<Figure size 1080x1080 with 20 Axes>"
      ]
     },
     "metadata": {
      "needs_background": "light"
     },
     "output_type": "display_data"
    }
   ],
   "source": [
    "# how can the genres impact the score of animes\n",
    "genres = anime.columns[-19:]\n",
    "\n",
    "f, axes = plt.subplots(5,4,figsize=(15,15))\n",
    "i,j=0,0\n",
    "for genre in (genres):\n",
    "    ax = sns.boxplot(data=anime[anime[genre]==1],x=genre,y='score',ax=axes[i,j])\n",
    "    ax.set(xticklabels=[])\n",
    "    j+=1\n",
    "    if (j==4):\n",
    "        j=0\n",
    "        i+=1"
   ]
  },
  {
   "cell_type": "code",
   "execution_count": 418,
   "metadata": {},
   "outputs": [
    {
     "data": {
      "text/plain": [
       "<AxesSubplot:>"
      ]
     },
     "execution_count": 418,
     "metadata": {},
     "output_type": "execute_result"
    },
    {
     "data": {
      "image/png": "[encoded data removed]",
      "text/plain": [
       "<Figure size 1080x1080 with 2 Axes>"
      ]
     },
     "metadata": {
      "needs_background": "light"
     },
     "output_type": "display_data"
    }
   ],
   "source": [
    "# correlation and heatmap\n",
    "plt.figure(figsize=(15,15))\n",
    "sns.heatmap(anime.corr(),cmap=sns.cubehelix_palette(as_cmap=True))"
   ]
  },
  {
   "cell_type": "markdown",
   "metadata": {},
   "source": [
    "we can see that there is no correlation (relationship) between these variables"
   ]
  },
  {
   "cell_type": "markdown",
   "metadata": {},
   "source": [
    "---\n",
    "---\n",
    "## <center> `Data Reduction`"
   ]
  },
  {
   "cell_type": "markdown",
   "metadata": {},
   "source": [
    "### 1- Feature Selection"
   ]
  },
  {
   "cell_type": "code",
   "execution_count": 419,
   "metadata": {},
   "outputs": [
    {
     "data": {
      "text/plain": [
       "(4150, 81)"
      ]
     },
     "execution_count": 419,
     "metadata": {},
     "output_type": "execute_result"
    }
   ],
   "source": [
    "anime_1 = anime.drop(['title','rank'], axis=1)\n",
    "anime_1.shape"
   ]
  },
  {
   "cell_type": "code",
   "execution_count": 420,
   "metadata": {},
   "outputs": [
    {
     "name": "stdout",
     "output_type": "stream",
     "text": [
      "90.23671667389054\n"
     ]
    },
    {
     "data": {
      "text/html": [
       "<div>\n",
       "<style scoped>\n",
       "    .dataframe tbody tr th:only-of-type {\n",
       "        vertical-align: middle;\n",
       "    }\n",
       "\n",
       "    .dataframe tbody tr th {\n",
       "        vertical-align: top;\n",
       "    }\n",
       "\n",
       "    .dataframe thead th {\n",
       "        text-align: right;\n",
       "    }\n",
       "</style>\n",
       "<table border=\"1\" class=\"dataframe\">\n",
       "  <thead>\n",
       "    <tr style=\"text-align: right;\">\n",
       "      <th></th>\n",
       "      <th>Feature</th>\n",
       "      <th>Score</th>\n",
       "    </tr>\n",
       "  </thead>\n",
       "  <tbody>\n",
       "    <tr>\n",
       "      <th>72</th>\n",
       "      <td>AwardWinning</td>\n",
       "      <td>3.385236</td>\n",
       "    </tr>\n",
       "    <tr>\n",
       "      <th>15</th>\n",
       "      <td>Shueisha</td>\n",
       "      <td>3.281444</td>\n",
       "    </tr>\n",
       "    <tr>\n",
       "      <th>74</th>\n",
       "      <td>Suspense</td>\n",
       "      <td>2.702081</td>\n",
       "    </tr>\n",
       "    <tr>\n",
       "      <th>8</th>\n",
       "      <td>Aniplex</td>\n",
       "      <td>2.619202</td>\n",
       "    </tr>\n",
       "    <tr>\n",
       "      <th>10</th>\n",
       "      <td>Dentsu</td>\n",
       "      <td>2.363983</td>\n",
       "    </tr>\n",
       "    <tr>\n",
       "      <th>42</th>\n",
       "      <td>WarnerBros.Japan</td>\n",
       "      <td>2.290983</td>\n",
       "    </tr>\n",
       "    <tr>\n",
       "      <th>13</th>\n",
       "      <td>Kodansha</td>\n",
       "      <td>2.239134</td>\n",
       "    </tr>\n",
       "    <tr>\n",
       "      <th>19</th>\n",
       "      <td>MainichiBroadcastingSystem</td>\n",
       "      <td>2.164880</td>\n",
       "    </tr>\n",
       "    <tr>\n",
       "      <th>56</th>\n",
       "      <td>ProductionI.G</td>\n",
       "      <td>2.153168</td>\n",
       "    </tr>\n",
       "    <tr>\n",
       "      <th>65</th>\n",
       "      <td>Drama</td>\n",
       "      <td>2.136204</td>\n",
       "    </tr>\n",
       "    <tr>\n",
       "      <th>40</th>\n",
       "      <td>NipponTelevisionNetwork</td>\n",
       "      <td>2.065448</td>\n",
       "    </tr>\n",
       "    <tr>\n",
       "      <th>69</th>\n",
       "      <td>Mystery</td>\n",
       "      <td>1.973517</td>\n",
       "    </tr>\n",
       "    <tr>\n",
       "      <th>62</th>\n",
       "      <td>Comedy</td>\n",
       "      <td>1.902716</td>\n",
       "    </tr>\n",
       "    <tr>\n",
       "      <th>0</th>\n",
       "      <td>episodes</td>\n",
       "      <td>1.894526</td>\n",
       "    </tr>\n",
       "    <tr>\n",
       "      <th>35</th>\n",
       "      <td>SonyMusicEntertainment</td>\n",
       "      <td>1.864418</td>\n",
       "    </tr>\n",
       "    <tr>\n",
       "      <th>25</th>\n",
       "      <td>TOHOanimation</td>\n",
       "      <td>1.812593</td>\n",
       "    </tr>\n",
       "    <tr>\n",
       "      <th>53</th>\n",
       "      <td>Shogakukan</td>\n",
       "      <td>1.769413</td>\n",
       "    </tr>\n",
       "    <tr>\n",
       "      <th>49</th>\n",
       "      <td>HakuhodoDYMusic&amp;Pictures</td>\n",
       "      <td>1.750940</td>\n",
       "    </tr>\n",
       "    <tr>\n",
       "      <th>34</th>\n",
       "      <td>VAP</td>\n",
       "      <td>1.723968</td>\n",
       "    </tr>\n",
       "    <tr>\n",
       "      <th>68</th>\n",
       "      <td>Supernatural</td>\n",
       "      <td>1.643500</td>\n",
       "    </tr>\n",
       "    <tr>\n",
       "      <th>9</th>\n",
       "      <td>TVTokyo</td>\n",
       "      <td>1.633452</td>\n",
       "    </tr>\n",
       "    <tr>\n",
       "      <th>67</th>\n",
       "      <td>Sci-Fi</td>\n",
       "      <td>1.625244</td>\n",
       "    </tr>\n",
       "    <tr>\n",
       "      <th>22</th>\n",
       "      <td>Kadokawa</td>\n",
       "      <td>1.614653</td>\n",
       "    </tr>\n",
       "    <tr>\n",
       "      <th>79</th>\n",
       "      <td>AvantGarde</td>\n",
       "      <td>1.591961</td>\n",
       "    </tr>\n",
       "    <tr>\n",
       "      <th>54</th>\n",
       "      <td>AvexPictures</td>\n",
       "      <td>1.541081</td>\n",
       "    </tr>\n",
       "    <tr>\n",
       "      <th>57</th>\n",
       "      <td>KadokawaMediaHouse</td>\n",
       "      <td>1.507239</td>\n",
       "    </tr>\n",
       "    <tr>\n",
       "      <th>64</th>\n",
       "      <td>Adventure</td>\n",
       "      <td>1.485865</td>\n",
       "    </tr>\n",
       "    <tr>\n",
       "      <th>31</th>\n",
       "      <td>NihonAdSystems</td>\n",
       "      <td>1.456018</td>\n",
       "    </tr>\n",
       "    <tr>\n",
       "      <th>17</th>\n",
       "      <td>FujiTV</td>\n",
       "      <td>1.428560</td>\n",
       "    </tr>\n",
       "    <tr>\n",
       "      <th>63</th>\n",
       "      <td>Fantasy</td>\n",
       "      <td>1.412523</td>\n",
       "    </tr>\n",
       "    <tr>\n",
       "      <th>66</th>\n",
       "      <td>Romance</td>\n",
       "      <td>1.395635</td>\n",
       "    </tr>\n",
       "    <tr>\n",
       "      <th>11</th>\n",
       "      <td>Movic</td>\n",
       "      <td>1.375568</td>\n",
       "    </tr>\n",
       "    <tr>\n",
       "      <th>59</th>\n",
       "      <td>AsmikAce</td>\n",
       "      <td>1.374342</td>\n",
       "    </tr>\n",
       "    <tr>\n",
       "      <th>6</th>\n",
       "      <td>TV</td>\n",
       "      <td>1.338887</td>\n",
       "    </tr>\n",
       "    <tr>\n",
       "      <th>20</th>\n",
       "      <td>KlockWorx</td>\n",
       "      <td>1.335436</td>\n",
       "    </tr>\n",
       "    <tr>\n",
       "      <th>7</th>\n",
       "      <td>addsome</td>\n",
       "      <td>1.326783</td>\n",
       "    </tr>\n",
       "    <tr>\n",
       "      <th>1</th>\n",
       "      <td>Movie</td>\n",
       "      <td>1.295812</td>\n",
       "    </tr>\n",
       "    <tr>\n",
       "      <th>18</th>\n",
       "      <td>PonyCanyon</td>\n",
       "      <td>1.275039</td>\n",
       "    </tr>\n",
       "    <tr>\n",
       "      <th>37</th>\n",
       "      <td>MediaFactory</td>\n",
       "      <td>1.267353</td>\n",
       "    </tr>\n",
       "    <tr>\n",
       "      <th>45</th>\n",
       "      <td>NHK</td>\n",
       "      <td>1.243811</td>\n",
       "    </tr>\n",
       "    <tr>\n",
       "      <th>32</th>\n",
       "      <td>Shogakukan-ShueishaProductions</td>\n",
       "      <td>1.237322</td>\n",
       "    </tr>\n",
       "    <tr>\n",
       "      <th>28</th>\n",
       "      <td>Shochiku</td>\n",
       "      <td>1.225542</td>\n",
       "    </tr>\n",
       "    <tr>\n",
       "      <th>61</th>\n",
       "      <td>Action</td>\n",
       "      <td>1.222149</td>\n",
       "    </tr>\n",
       "    <tr>\n",
       "      <th>73</th>\n",
       "      <td>Horror</td>\n",
       "      <td>1.203472</td>\n",
       "    </tr>\n",
       "    <tr>\n",
       "      <th>46</th>\n",
       "      <td>Toho</td>\n",
       "      <td>1.194215</td>\n",
       "    </tr>\n",
       "    <tr>\n",
       "      <th>38</th>\n",
       "      <td>MagicCapsule</td>\n",
       "      <td>1.190531</td>\n",
       "    </tr>\n",
       "    <tr>\n",
       "      <th>77</th>\n",
       "      <td>BoysLove</td>\n",
       "      <td>1.183571</td>\n",
       "    </tr>\n",
       "    <tr>\n",
       "      <th>70</th>\n",
       "      <td>SliceofLife</td>\n",
       "      <td>1.165602</td>\n",
       "    </tr>\n",
       "    <tr>\n",
       "      <th>71</th>\n",
       "      <td>Ecchi</td>\n",
       "      <td>1.149165</td>\n",
       "    </tr>\n",
       "    <tr>\n",
       "      <th>43</th>\n",
       "      <td>BS11</td>\n",
       "      <td>1.092877</td>\n",
       "    </tr>\n",
       "    <tr>\n",
       "      <th>58</th>\n",
       "      <td>HalfH.PStudio</td>\n",
       "      <td>1.080717</td>\n",
       "    </tr>\n",
       "    <tr>\n",
       "      <th>33</th>\n",
       "      <td>DAXProduction</td>\n",
       "      <td>1.030755</td>\n",
       "    </tr>\n",
       "    <tr>\n",
       "      <th>75</th>\n",
       "      <td>Sports</td>\n",
       "      <td>1.024556</td>\n",
       "    </tr>\n",
       "    <tr>\n",
       "      <th>30</th>\n",
       "      <td>FrontierWorks</td>\n",
       "      <td>0.996997</td>\n",
       "    </tr>\n",
       "    <tr>\n",
       "      <th>5</th>\n",
       "      <td>Special</td>\n",
       "      <td>0.995113</td>\n",
       "    </tr>\n",
       "    <tr>\n",
       "      <th>78</th>\n",
       "      <td>GirlsLove</td>\n",
       "      <td>0.981517</td>\n",
       "    </tr>\n",
       "  </tbody>\n",
       "</table>\n",
       "</div>"
      ],
      "text/plain": [
       "                           Feature     Score\n",
       "72                    AwardWinning  3.385236\n",
       "15                        Shueisha  3.281444\n",
       "74                        Suspense  2.702081\n",
       "8                          Aniplex  2.619202\n",
       "10                          Dentsu  2.363983\n",
       "42                WarnerBros.Japan  2.290983\n",
       "13                        Kodansha  2.239134\n",
       "19      MainichiBroadcastingSystem  2.164880\n",
       "56                   ProductionI.G  2.153168\n",
       "65                           Drama  2.136204\n",
       "40         NipponTelevisionNetwork  2.065448\n",
       "69                         Mystery  1.973517\n",
       "62                          Comedy  1.902716\n",
       "0                         episodes  1.894526\n",
       "35          SonyMusicEntertainment  1.864418\n",
       "25                   TOHOanimation  1.812593\n",
       "53                      Shogakukan  1.769413\n",
       "49        HakuhodoDYMusic&Pictures  1.750940\n",
       "34                             VAP  1.723968\n",
       "68                    Supernatural  1.643500\n",
       "9                          TVTokyo  1.633452\n",
       "67                          Sci-Fi  1.625244\n",
       "22                        Kadokawa  1.614653\n",
       "79                      AvantGarde  1.591961\n",
       "54                    AvexPictures  1.541081\n",
       "57              KadokawaMediaHouse  1.507239\n",
       "64                       Adventure  1.485865\n",
       "31                  NihonAdSystems  1.456018\n",
       "17                          FujiTV  1.428560\n",
       "63                         Fantasy  1.412523\n",
       "66                         Romance  1.395635\n",
       "11                           Movic  1.375568\n",
       "59                        AsmikAce  1.374342\n",
       "6                               TV  1.338887\n",
       "20                       KlockWorx  1.335436\n",
       "7                          addsome  1.326783\n",
       "1                            Movie  1.295812\n",
       "18                      PonyCanyon  1.275039\n",
       "37                    MediaFactory  1.267353\n",
       "45                             NHK  1.243811\n",
       "32  Shogakukan-ShueishaProductions  1.237322\n",
       "28                        Shochiku  1.225542\n",
       "61                          Action  1.222149\n",
       "73                          Horror  1.203472\n",
       "46                            Toho  1.194215\n",
       "38                    MagicCapsule  1.190531\n",
       "77                        BoysLove  1.183571\n",
       "70                     SliceofLife  1.165602\n",
       "71                           Ecchi  1.149165\n",
       "43                            BS11  1.092877\n",
       "58                   HalfH.PStudio  1.080717\n",
       "33                   DAXProduction  1.030755\n",
       "75                          Sports  1.024556\n",
       "30                   FrontierWorks  0.996997\n",
       "5                          Special  0.995113\n",
       "78                       GirlsLove  0.981517"
      ]
     },
     "execution_count": 420,
     "metadata": {},
     "output_type": "execute_result"
    }
   ],
   "source": [
    "from sklearn.preprocessing import StandardScaler\n",
    "\n",
    "# first we will split the dataset into target and features\n",
    "X = anime_1.drop(\"score\",axis=1)\n",
    "y = anime_1[\"score\"]\n",
    "\n",
    "# Standardize the selected features\n",
    "scaler = StandardScaler()\n",
    "data_scaled = scaler.fit_transform(X)# now our dataset contain only nemuric values \n",
    "\n",
    "# now we will apply a filter method (f-value) to select top 10 features \n",
    "from sklearn.feature_selection import SelectKBest, f_classif\n",
    "kbest = SelectKBest(f_classif, k=56)\n",
    "X_kbest = kbest.fit(data_scaled,y)\n",
    "\n",
    "# Get the selected feature names and scores\n",
    "selected_feature = pd.DataFrame(list(zip(X.columns, X_kbest.scores_)), columns=['Feature', 'Score'])\n",
    "selected_feature = selected_feature.sort_values(by='Score', ascending=False).head(56)\n",
    "print(selected_feature.Score.sum())\n",
    "selected_feature"
   ]
  },
  {
   "cell_type": "code",
   "execution_count": 421,
   "metadata": {},
   "outputs": [
    {
     "data": {
      "text/plain": [
       "(4150, 56)"
      ]
     },
     "execution_count": 421,
     "metadata": {},
     "output_type": "execute_result"
    }
   ],
   "source": [
    "anime_fs = anime_1[selected_feature.Feature.unique()]\n",
    "anime_fs.shape"
   ]
  },
  {
   "cell_type": "markdown",
   "metadata": {},
   "source": [
    "### 2- PCA"
   ]
  },
  {
   "cell_type": "code",
   "execution_count": 422,
   "metadata": {},
   "outputs": [
    {
     "name": "stdout",
     "output_type": "stream",
     "text": [
      "\n",
      "Shape : (4150, 0)\n",
      "Pourcentages de variance expliquée :\n",
      "Variance totale expliquée : 0.00%\n",
      "\n",
      "Shape : (4150, 1)\n",
      "Pourcentages de variance expliquée :3.89%  \n",
      "Variance totale expliquée : 3.89%\n",
      "\n",
      "Shape : (4150, 2)\n",
      "Pourcentages de variance expliquée :3.89%  3.00%  \n",
      "Variance totale expliquée : 6.89%\n",
      "\n",
      "Shape : (4150, 3)\n",
      "Pourcentages de variance expliquée :3.89%  3.00%  2.61%  \n",
      "Variance totale expliquée : 9.51%\n",
      "\n",
      "Shape : (4150, 4)\n",
      "Pourcentages de variance expliquée :3.89%  3.00%  2.61%  2.46%  \n",
      "Variance totale expliquée : 11.97%\n",
      "\n",
      "Shape : (4150, 5)\n",
      "Pourcentages de variance expliquée :3.89%  3.00%  2.62%  2.46%  2.28%  \n",
      "Variance totale expliquée : 14.24%\n",
      "\n",
      "Shape : (4150, 6)\n",
      "Pourcentages de variance expliquée :3.89%  3.00%  2.61%  2.46%  2.27%  2.19%  \n",
      "Variance totale expliquée : 16.43%\n",
      "\n",
      "Shape : (4150, 7)\n",
      "Pourcentages de variance expliquée :3.89%  3.00%  2.62%  2.46%  2.28%  2.19%  2.16%  \n",
      "Variance totale expliquée : 18.60%\n",
      "\n",
      "Shape : (4150, 8)\n",
      "Pourcentages de variance expliquée :3.89%  3.00%  2.61%  2.45%  2.25%  2.14%  2.09%  2.01%  \n",
      "Variance totale expliquée : 20.44%\n",
      "\n",
      "Shape : (4150, 9)\n",
      "Pourcentages de variance expliquée :3.89%  3.00%  2.61%  2.45%  2.23%  2.15%  2.13%  2.09%  1.91%  \n",
      "Variance totale expliquée : 22.47%\n",
      "\n",
      "Shape : (4150, 10)\n",
      "Pourcentages de variance expliquée :3.89%  3.00%  2.61%  2.45%  2.27%  2.18%  2.13%  2.09%  1.96%  1.87%  \n",
      "Variance totale expliquée : 24.44%\n",
      "\n",
      "Shape : (4150, 11)\n",
      "Pourcentages de variance expliquée :3.89%  2.99%  2.61%  2.45%  2.27%  2.19%  2.15%  2.09%  1.96%  1.93%  1.84%  \n",
      "Variance totale expliquée : 26.37%\n",
      "\n",
      "Shape : (4150, 12)\n",
      "Pourcentages de variance expliquée :3.89%  3.00%  2.61%  2.45%  2.26%  2.17%  2.14%  2.11%  1.96%  1.90%  1.80%  1.72%  \n",
      "Variance totale expliquée : 28.02%\n",
      "\n",
      "Shape : (4150, 13)\n",
      "Pourcentages de variance expliquée :3.89%  3.00%  2.59%  2.45%  2.27%  2.18%  2.15%  2.12%  1.97%  1.94%  1.84%  1.75%  1.73%  \n",
      "Variance totale expliquée : 29.88%\n",
      "\n",
      "Shape : (4150, 14)\n",
      "Pourcentages de variance expliquée :3.89%  3.00%  2.61%  2.45%  2.27%  2.19%  2.14%  2.11%  1.97%  1.94%  1.83%  1.76%  1.71%  1.63%  \n",
      "Variance totale expliquée : 31.49%\n",
      "\n",
      "Shape : (4150, 15)\n",
      "Pourcentages de variance expliquée :3.89%  3.00%  2.61%  2.45%  2.27%  2.18%  2.16%  2.11%  1.96%  1.94%  1.86%  1.73%  1.69%  1.65%  1.60%  \n",
      "Variance totale expliquée : 33.10%\n",
      "\n",
      "Shape : (4150, 16)\n",
      "Pourcentages de variance expliquée :3.89%  3.00%  2.61%  2.45%  2.27%  2.19%  2.15%  2.12%  1.98%  1.94%  1.87%  1.77%  1.68%  1.68%  1.62%  1.61%  \n",
      "Variance totale expliquée : 34.83%\n",
      "\n",
      "Shape : (4150, 17)\n",
      "Pourcentages de variance expliquée :3.89%  3.00%  2.61%  2.44%  2.27%  2.19%  2.15%  2.12%  1.97%  1.94%  1.86%  1.76%  1.73%  1.63%  1.61%  1.59%  1.51%  \n",
      "Variance totale expliquée : 36.30%\n",
      "\n",
      "Shape : (4150, 18)\n",
      "Pourcentages de variance expliquée :3.89%  3.00%  2.61%  2.45%  2.27%  2.19%  2.16%  2.13%  1.99%  1.94%  1.87%  1.77%  1.70%  1.67%  1.64%  1.60%  1.58%  1.56%  \n",
      "Variance totale expliquée : 38.04%\n",
      "\n",
      "Shape : (4150, 19)\n",
      "Pourcentages de variance expliquée :3.89%  3.00%  2.61%  2.45%  2.27%  2.19%  2.14%  2.13%  1.98%  1.95%  1.87%  1.77%  1.74%  1.69%  1.62%  1.62%  1.54%  1.54%  1.51%  \n",
      "Variance totale expliquée : 39.53%\n",
      "\n",
      "Shape : (4150, 20)\n",
      "Pourcentages de variance expliquée :3.89%  3.00%  2.61%  2.45%  2.27%  2.19%  2.16%  2.13%  1.99%  1.93%  1.86%  1.78%  1.72%  1.67%  1.65%  1.62%  1.55%  1.52%  1.50%  1.46%  \n",
      "Variance totale expliquée : 40.97%\n",
      "\n",
      "Shape : (4150, 21)\n",
      "Pourcentages de variance expliquée :3.89%  3.00%  2.61%  2.45%  2.27%  2.19%  2.15%  2.14%  1.99%  1.95%  1.89%  1.78%  1.75%  1.68%  1.63%  1.62%  1.58%  1.57%  1.53%  1.47%  1.39%  \n",
      "Variance totale expliquée : 42.54%\n",
      "\n",
      "Shape : (4150, 22)\n",
      "Pourcentages de variance expliquée :3.89%  3.00%  2.61%  2.46%  2.27%  2.19%  2.16%  2.11%  1.99%  1.96%  1.85%  1.77%  1.75%  1.70%  1.64%  1.63%  1.58%  1.55%  1.54%  1.49%  1.42%  1.37%  \n",
      "Variance totale expliquée : 43.94%\n",
      "\n",
      "Shape : (4150, 23)\n",
      "Pourcentages de variance expliquée :3.89%  3.00%  2.61%  2.46%  2.27%  2.19%  2.16%  2.14%  1.99%  1.95%  1.87%  1.76%  1.71%  1.67%  1.64%  1.59%  1.57%  1.55%  1.53%  1.49%  1.45%  1.38%  1.37%  \n",
      "Variance totale expliquée : 45.28%\n",
      "\n",
      "Shape : (4150, 24)\n",
      "Pourcentages de variance expliquée :3.89%  3.00%  2.61%  2.46%  2.28%  2.19%  2.16%  2.13%  2.00%  1.96%  1.88%  1.77%  1.76%  1.70%  1.65%  1.62%  1.58%  1.58%  1.52%  1.48%  1.46%  1.40%  1.39%  1.37%  \n",
      "Variance totale expliquée : 46.84%\n",
      "\n",
      "Shape : (4150, 25)\n",
      "Pourcentages de variance expliquée :3.89%  3.00%  2.61%  2.46%  2.28%  2.19%  2.15%  2.13%  1.99%  1.96%  1.87%  1.77%  1.75%  1.70%  1.66%  1.63%  1.59%  1.57%  1.55%  1.49%  1.47%  1.42%  1.39%  1.38%  1.31%  \n",
      "Variance totale expliquée : 48.21%\n",
      "\n",
      "Shape : (4150, 26)\n",
      "Pourcentages de variance expliquée :3.89%  3.00%  2.62%  2.46%  2.28%  2.19%  2.16%  2.13%  1.99%  1.95%  1.88%  1.78%  1.75%  1.71%  1.66%  1.64%  1.59%  1.55%  1.54%  1.48%  1.44%  1.44%  1.39%  1.36%  1.33%  1.31%  \n",
      "Variance totale expliquée : 49.51%\n",
      "\n",
      "Shape : (4150, 27)\n",
      "Pourcentages de variance expliquée :3.89%  3.00%  2.62%  2.46%  2.27%  2.19%  2.16%  2.14%  1.99%  1.96%  1.88%  1.78%  1.75%  1.72%  1.66%  1.62%  1.59%  1.57%  1.55%  1.52%  1.45%  1.41%  1.39%  1.36%  1.34%  1.32%  1.31%  \n",
      "Variance totale expliquée : 50.89%\n",
      "\n",
      "Shape : (4150, 28)\n",
      "Pourcentages de variance expliquée :3.89%  3.00%  2.62%  2.46%  2.27%  2.19%  2.16%  2.14%  2.00%  1.96%  1.88%  1.78%  1.76%  1.69%  1.66%  1.64%  1.59%  1.58%  1.55%  1.53%  1.47%  1.41%  1.39%  1.36%  1.35%  1.33%  1.30%  1.29%  \n",
      "Variance totale expliquée : 52.27%\n",
      "\n",
      "Shape : (4150, 29)\n",
      "Pourcentages de variance expliquée :3.89%  3.00%  2.62%  2.46%  2.28%  2.19%  2.16%  2.14%  2.00%  1.94%  1.89%  1.78%  1.76%  1.70%  1.67%  1.64%  1.60%  1.57%  1.57%  1.53%  1.47%  1.44%  1.41%  1.38%  1.36%  1.35%  1.31%  1.29%  1.28%  \n",
      "Variance totale expliquée : 53.68%\n",
      "\n",
      "Shape : (4150, 30)\n",
      "Pourcentages de variance expliquée :3.89%  3.00%  2.62%  2.45%  2.28%  2.19%  2.16%  2.14%  1.99%  1.96%  1.89%  1.78%  1.76%  1.70%  1.65%  1.64%  1.58%  1.57%  1.55%  1.53%  1.45%  1.43%  1.41%  1.37%  1.35%  1.34%  1.31%  1.29%  1.25%  1.24%  \n",
      "Variance totale expliquée : 54.80%\n",
      "\n",
      "Shape : (4150, 31)\n",
      "Pourcentages de variance expliquée :3.89%  3.00%  2.62%  2.46%  2.27%  2.19%  2.16%  2.14%  2.00%  1.96%  1.89%  1.79%  1.76%  1.71%  1.66%  1.64%  1.60%  1.59%  1.56%  1.55%  1.45%  1.44%  1.40%  1.37%  1.36%  1.33%  1.31%  1.29%  1.28%  1.26%  1.24%  \n",
      "Variance totale expliquée : 56.18%\n",
      "\n",
      "Shape : (4150, 32)\n",
      "Pourcentages de variance expliquée :3.89%  3.00%  2.62%  2.46%  2.27%  2.19%  2.16%  2.14%  2.00%  1.96%  1.88%  1.78%  1.75%  1.72%  1.67%  1.64%  1.59%  1.59%  1.55%  1.54%  1.46%  1.44%  1.41%  1.39%  1.36%  1.34%  1.32%  1.30%  1.30%  1.27%  1.24%  1.22%  \n",
      "Variance totale expliquée : 57.46%\n",
      "\n",
      "Shape : (4150, 33)\n",
      "Pourcentages de variance expliquée :3.89%  3.00%  2.62%  2.46%  2.28%  2.19%  2.16%  2.14%  2.00%  1.96%  1.88%  1.79%  1.76%  1.72%  1.65%  1.64%  1.59%  1.58%  1.57%  1.52%  1.47%  1.43%  1.41%  1.39%  1.37%  1.34%  1.32%  1.31%  1.27%  1.27%  1.26%  1.25%  1.23%  \n",
      "Variance totale expliquée : 58.70%\n",
      "\n",
      "Shape : (4150, 34)\n",
      "Pourcentages de variance expliquée :3.89%  3.00%  2.62%  2.46%  2.28%  2.19%  2.16%  2.14%  2.00%  1.96%  1.88%  1.78%  1.77%  1.71%  1.66%  1.65%  1.60%  1.58%  1.57%  1.55%  1.49%  1.44%  1.42%  1.38%  1.37%  1.33%  1.32%  1.32%  1.29%  1.26%  1.26%  1.25%  1.21%  1.20%  \n",
      "Variance totale expliquée : 60.00%\n",
      "\n",
      "Shape : (4150, 35)\n",
      "Pourcentages de variance expliquée :3.89%  3.00%  2.62%  2.46%  2.28%  2.19%  2.16%  2.14%  2.00%  1.96%  1.89%  1.79%  1.76%  1.71%  1.67%  1.65%  1.60%  1.59%  1.56%  1.54%  1.48%  1.44%  1.42%  1.39%  1.37%  1.34%  1.32%  1.32%  1.29%  1.28%  1.27%  1.24%  1.22%  1.19%  1.19%  \n",
      "Variance totale expliquée : 61.22%\n",
      "\n",
      "Shape : (4150, 36)\n",
      "Pourcentages de variance expliquée :3.89%  3.00%  2.62%  2.46%  2.28%  2.19%  2.16%  2.14%  2.00%  1.96%  1.89%  1.79%  1.75%  1.72%  1.67%  1.65%  1.60%  1.59%  1.57%  1.54%  1.48%  1.45%  1.42%  1.41%  1.37%  1.36%  1.33%  1.32%  1.29%  1.28%  1.26%  1.26%  1.24%  1.23%  1.20%  1.18%  \n",
      "Variance totale expliquée : 62.53%\n",
      "\n",
      "Shape : (4150, 37)\n",
      "Pourcentages de variance expliquée :3.89%  3.00%  2.62%  2.46%  2.28%  2.19%  2.16%  2.14%  2.00%  1.96%  1.89%  1.79%  1.77%  1.72%  1.67%  1.64%  1.60%  1.59%  1.56%  1.56%  1.48%  1.44%  1.43%  1.40%  1.37%  1.35%  1.32%  1.31%  1.29%  1.28%  1.26%  1.25%  1.23%  1.21%  1.20%  1.19%  1.16%  \n",
      "Variance totale expliquée : 63.67%\n",
      "\n",
      "Shape : (4150, 38)\n",
      "Pourcentages de variance expliquée :3.89%  3.00%  2.62%  2.46%  2.28%  2.19%  2.16%  2.14%  2.00%  1.96%  1.89%  1.79%  1.77%  1.72%  1.67%  1.65%  1.60%  1.59%  1.57%  1.56%  1.48%  1.44%  1.43%  1.40%  1.38%  1.34%  1.32%  1.31%  1.29%  1.28%  1.26%  1.26%  1.24%  1.22%  1.19%  1.19%  1.18%  1.16%  \n",
      "Variance totale expliquée : 64.88%\n",
      "\n",
      "Shape : (4150, 39)\n",
      "Pourcentages de variance expliquée :3.89%  3.00%  2.62%  2.46%  2.28%  2.19%  2.16%  2.14%  2.00%  1.96%  1.89%  1.79%  1.77%  1.72%  1.67%  1.65%  1.60%  1.59%  1.57%  1.55%  1.49%  1.44%  1.43%  1.40%  1.38%  1.35%  1.33%  1.32%  1.31%  1.29%  1.28%  1.25%  1.25%  1.22%  1.20%  1.19%  1.17%  1.14%  1.12%  \n",
      "Variance totale expliquée : 66.06%\n",
      "\n",
      "Shape : (4150, 40)\n",
      "Pourcentages de variance expliquée :3.89%  3.00%  2.62%  2.46%  2.28%  2.19%  2.16%  2.14%  2.00%  1.96%  1.89%  1.79%  1.77%  1.72%  1.67%  1.65%  1.60%  1.60%  1.58%  1.56%  1.49%  1.45%  1.44%  1.41%  1.39%  1.36%  1.34%  1.32%  1.32%  1.28%  1.28%  1.27%  1.25%  1.23%  1.22%  1.19%  1.18%  1.17%  1.15%  1.13%  \n",
      "Variance totale expliquée : 67.39%\n",
      "\n",
      "Shape : (4150, 41)\n",
      "Pourcentages de variance expliquée :3.89%  3.00%  2.62%  2.46%  2.28%  2.20%  2.16%  2.14%  2.00%  1.96%  1.89%  1.79%  1.76%  1.72%  1.67%  1.65%  1.61%  1.59%  1.57%  1.56%  1.48%  1.45%  1.44%  1.40%  1.38%  1.36%  1.34%  1.32%  1.32%  1.28%  1.28%  1.27%  1.24%  1.23%  1.22%  1.20%  1.19%  1.16%  1.13%  1.11%  1.11%  \n",
      "Variance totale expliquée : 68.42%\n",
      "\n",
      "Shape : (4150, 42)\n",
      "Pourcentages de variance expliquée :3.89%  3.00%  2.62%  2.46%  2.28%  2.19%  2.16%  2.14%  2.00%  1.96%  1.89%  1.79%  1.77%  1.72%  1.67%  1.65%  1.60%  1.59%  1.58%  1.56%  1.48%  1.45%  1.43%  1.41%  1.38%  1.36%  1.32%  1.32%  1.31%  1.28%  1.27%  1.26%  1.25%  1.23%  1.22%  1.19%  1.18%  1.17%  1.16%  1.12%  1.11%  1.10%  \n",
      "Variance totale expliquée : 69.54%\n",
      "\n",
      "Shape : (4150, 43)\n",
      "Pourcentages de variance expliquée :3.89%  3.00%  2.62%  2.46%  2.28%  2.20%  2.16%  2.14%  2.00%  1.96%  1.89%  1.79%  1.77%  1.72%  1.67%  1.65%  1.60%  1.60%  1.58%  1.56%  1.49%  1.44%  1.43%  1.41%  1.38%  1.36%  1.34%  1.32%  1.32%  1.29%  1.27%  1.27%  1.25%  1.23%  1.20%  1.20%  1.18%  1.17%  1.15%  1.13%  1.12%  1.12%  1.10%  \n",
      "Variance totale expliquée : 70.71%\n",
      "\n",
      "Shape : (4150, 44)\n",
      "Pourcentages de variance expliquée :3.89%  3.00%  2.62%  2.46%  2.28%  2.20%  2.16%  2.14%  2.00%  1.96%  1.89%  1.79%  1.77%  1.72%  1.67%  1.65%  1.60%  1.60%  1.58%  1.56%  1.48%  1.45%  1.43%  1.40%  1.39%  1.36%  1.34%  1.32%  1.31%  1.29%  1.28%  1.27%  1.26%  1.23%  1.22%  1.20%  1.18%  1.16%  1.15%  1.13%  1.11%  1.10%  1.07%  1.07%  \n",
      "Variance totale expliquée : 71.76%\n",
      "\n",
      "Shape : (4150, 45)\n",
      "Pourcentages de variance expliquée :3.89%  3.00%  2.62%  2.46%  2.28%  2.20%  2.17%  2.14%  2.00%  1.96%  1.89%  1.79%  1.77%  1.72%  1.67%  1.65%  1.61%  1.59%  1.58%  1.56%  1.49%  1.45%  1.43%  1.41%  1.38%  1.36%  1.34%  1.32%  1.32%  1.29%  1.28%  1.27%  1.25%  1.23%  1.21%  1.20%  1.19%  1.17%  1.16%  1.14%  1.13%  1.12%  1.10%  1.07%  1.05%  \n",
      "Variance totale expliquée : 72.91%\n",
      "\n",
      "Shape : (4150, 46)\n",
      "Pourcentages de variance expliquée :3.89%  3.00%  2.62%  2.46%  2.28%  2.19%  2.17%  2.14%  2.00%  1.96%  1.89%  1.79%  1.77%  1.72%  1.67%  1.65%  1.60%  1.60%  1.58%  1.56%  1.49%  1.45%  1.44%  1.41%  1.39%  1.36%  1.34%  1.32%  1.31%  1.30%  1.28%  1.27%  1.24%  1.23%  1.22%  1.20%  1.19%  1.17%  1.16%  1.14%  1.14%  1.13%  1.10%  1.08%  1.07%  1.03%  \n",
      "Variance totale expliquée : 73.98%\n",
      "\n",
      "Shape : (4150, 47)\n",
      "Pourcentages de variance expliquée :3.89%  3.00%  2.62%  2.46%  2.28%  2.19%  2.17%  2.14%  2.00%  1.96%  1.89%  1.79%  1.77%  1.72%  1.67%  1.65%  1.60%  1.60%  1.58%  1.56%  1.49%  1.45%  1.43%  1.40%  1.39%  1.36%  1.35%  1.32%  1.31%  1.29%  1.28%  1.27%  1.25%  1.23%  1.22%  1.19%  1.18%  1.17%  1.14%  1.13%  1.12%  1.12%  1.10%  1.07%  1.06%  1.05%  1.02%  \n",
      "Variance totale expliquée : 74.94%\n",
      "\n",
      "Shape : (4150, 48)\n",
      "Pourcentages de variance expliquée :3.89%  3.00%  2.62%  2.46%  2.28%  2.20%  2.17%  2.14%  2.00%  1.96%  1.89%  1.79%  1.77%  1.72%  1.68%  1.65%  1.61%  1.60%  1.58%  1.56%  1.49%  1.45%  1.44%  1.41%  1.39%  1.36%  1.35%  1.33%  1.32%  1.29%  1.28%  1.27%  1.26%  1.23%  1.22%  1.20%  1.18%  1.17%  1.16%  1.15%  1.13%  1.12%  1.12%  1.08%  1.07%  1.03%  1.02%  1.00%  \n",
      "Variance totale expliquée : 76.09%\n",
      "\n",
      "Shape : (4150, 49)\n",
      "Pourcentages de variance expliquée :3.89%  3.00%  2.62%  2.46%  2.28%  2.20%  2.17%  2.14%  2.00%  1.96%  1.89%  1.79%  1.77%  1.72%  1.68%  1.65%  1.61%  1.60%  1.58%  1.56%  1.49%  1.45%  1.44%  1.41%  1.39%  1.36%  1.34%  1.33%  1.32%  1.29%  1.28%  1.27%  1.26%  1.24%  1.22%  1.21%  1.20%  1.18%  1.18%  1.15%  1.12%  1.12%  1.11%  1.10%  1.07%  1.06%  1.04%  1.01%  1.00%  \n",
      "Variance totale expliquée : 77.21%\n",
      "\n",
      "Shape : (4150, 50)\n",
      "Pourcentages de variance expliquée :3.89%  3.00%  2.62%  2.46%  2.28%  2.20%  2.17%  2.14%  2.00%  1.96%  1.89%  1.79%  1.77%  1.72%  1.68%  1.65%  1.61%  1.60%  1.58%  1.56%  1.49%  1.45%  1.43%  1.41%  1.39%  1.36%  1.34%  1.33%  1.32%  1.29%  1.27%  1.27%  1.26%  1.24%  1.22%  1.21%  1.19%  1.18%  1.16%  1.15%  1.13%  1.13%  1.11%  1.10%  1.08%  1.06%  1.04%  1.00%  0.99%  0.99%  \n",
      "Variance totale expliquée : 78.16%\n",
      "\n",
      "Shape : (4150, 51)\n",
      "Pourcentages de variance expliquée :3.89%  3.00%  2.62%  2.46%  2.28%  2.20%  2.17%  2.14%  2.00%  1.96%  1.89%  1.79%  1.77%  1.72%  1.67%  1.65%  1.61%  1.60%  1.58%  1.56%  1.49%  1.45%  1.44%  1.41%  1.39%  1.37%  1.35%  1.33%  1.32%  1.30%  1.28%  1.27%  1.26%  1.23%  1.22%  1.21%  1.20%  1.18%  1.17%  1.14%  1.14%  1.13%  1.13%  1.11%  1.08%  1.05%  1.04%  1.02%  1.01%  0.98%  0.98%  \n",
      "Variance totale expliquée : 79.25%\n",
      "\n",
      "Shape : (4150, 52)\n",
      "Pourcentages de variance expliquée :3.89%  3.00%  2.62%  2.46%  2.28%  2.20%  2.17%  2.14%  2.00%  1.96%  1.89%  1.79%  1.77%  1.72%  1.68%  1.65%  1.61%  1.60%  1.58%  1.56%  1.49%  1.45%  1.44%  1.41%  1.39%  1.37%  1.35%  1.33%  1.32%  1.30%  1.28%  1.28%  1.26%  1.24%  1.23%  1.21%  1.20%  1.18%  1.17%  1.15%  1.13%  1.13%  1.11%  1.10%  1.07%  1.07%  1.03%  1.02%  1.00%  0.98%  0.98%  0.95%  \n",
      "Variance totale expliquée : 80.20%\n",
      "\n",
      "Shape : (4150, 53)\n",
      "Pourcentages de variance expliquée :3.89%  3.00%  2.62%  2.46%  2.28%  2.20%  2.17%  2.14%  2.00%  1.96%  1.89%  1.79%  1.77%  1.72%  1.68%  1.65%  1.61%  1.60%  1.58%  1.56%  1.49%  1.45%  1.44%  1.41%  1.39%  1.37%  1.35%  1.33%  1.32%  1.30%  1.28%  1.27%  1.27%  1.24%  1.22%  1.21%  1.20%  1.18%  1.18%  1.15%  1.14%  1.13%  1.12%  1.11%  1.08%  1.06%  1.04%  1.02%  1.01%  0.98%  0.97%  0.95%  0.95%  \n",
      "Variance totale expliquée : 81.19%\n",
      "\n",
      "Shape : (4150, 54)\n",
      "Pourcentages de variance expliquée :3.89%  3.00%  2.62%  2.46%  2.28%  2.20%  2.17%  2.14%  2.00%  1.96%  1.89%  1.79%  1.77%  1.72%  1.67%  1.65%  1.61%  1.60%  1.58%  1.56%  1.49%  1.45%  1.44%  1.41%  1.39%  1.37%  1.35%  1.33%  1.32%  1.29%  1.28%  1.28%  1.26%  1.24%  1.23%  1.21%  1.21%  1.18%  1.17%  1.15%  1.14%  1.13%  1.12%  1.11%  1.08%  1.06%  1.04%  1.02%  1.01%  1.01%  0.99%  0.97%  0.94%  0.93%  \n",
      "Variance totale expliquée : 82.17%\n",
      "\n",
      "Shape : (4150, 55)\n",
      "Pourcentages de variance expliquée :3.89%  3.00%  2.62%  2.46%  2.28%  2.20%  2.17%  2.14%  2.00%  1.96%  1.89%  1.79%  1.77%  1.72%  1.67%  1.65%  1.61%  1.60%  1.58%  1.56%  1.49%  1.45%  1.44%  1.41%  1.39%  1.37%  1.34%  1.33%  1.33%  1.30%  1.28%  1.28%  1.26%  1.24%  1.23%  1.21%  1.21%  1.18%  1.17%  1.15%  1.14%  1.13%  1.12%  1.11%  1.07%  1.06%  1.04%  1.02%  1.01%  1.00%  0.99%  0.96%  0.94%  0.93%  0.90%  \n",
      "Variance totale expliquée : 83.06%\n",
      "\n",
      "Shape : (4150, 56)\n",
      "Pourcentages de variance expliquée :3.89%  3.00%  2.62%  2.46%  2.28%  2.20%  2.17%  2.14%  2.00%  1.96%  1.89%  1.79%  1.77%  1.72%  1.68%  1.65%  1.61%  1.60%  1.58%  1.56%  1.49%  1.45%  1.44%  1.41%  1.39%  1.37%  1.35%  1.33%  1.33%  1.30%  1.28%  1.28%  1.26%  1.24%  1.23%  1.21%  1.21%  1.18%  1.18%  1.15%  1.14%  1.13%  1.13%  1.11%  1.08%  1.07%  1.04%  1.03%  1.02%  1.01%  0.99%  0.95%  0.94%  0.93%  0.90%  0.90%  \n",
      "Variance totale expliquée : 84.02%\n",
      "\n",
      "Shape : (4150, 57)\n",
      "Pourcentages de variance expliquée :3.89%  3.00%  2.62%  2.46%  2.28%  2.20%  2.17%  2.14%  2.00%  1.96%  1.89%  1.79%  1.77%  1.72%  1.68%  1.65%  1.61%  1.60%  1.58%  1.56%  1.49%  1.45%  1.44%  1.42%  1.39%  1.37%  1.35%  1.33%  1.33%  1.30%  1.28%  1.28%  1.27%  1.24%  1.23%  1.21%  1.21%  1.19%  1.18%  1.15%  1.14%  1.13%  1.13%  1.11%  1.09%  1.07%  1.04%  1.02%  1.01%  1.01%  0.99%  0.96%  0.94%  0.94%  0.91%  0.91%  0.87%  \n",
      "Variance totale expliquée : 84.94%\n",
      "\n",
      "Shape : (4150, 58)\n",
      "Pourcentages de variance expliquée :3.89%  3.00%  2.62%  2.46%  2.28%  2.20%  2.17%  2.14%  2.00%  1.96%  1.89%  1.79%  1.77%  1.72%  1.68%  1.65%  1.61%  1.60%  1.58%  1.56%  1.49%  1.45%  1.44%  1.41%  1.39%  1.37%  1.35%  1.33%  1.32%  1.30%  1.28%  1.28%  1.27%  1.25%  1.23%  1.21%  1.21%  1.19%  1.18%  1.15%  1.14%  1.13%  1.13%  1.11%  1.08%  1.07%  1.04%  1.03%  1.02%  1.00%  0.99%  0.96%  0.96%  0.94%  0.92%  0.90%  0.88%  0.86%  \n",
      "Variance totale expliquée : 85.83%\n",
      "\n",
      "Shape : (4150, 59)\n",
      "Pourcentages de variance expliquée :3.89%  3.00%  2.62%  2.46%  2.28%  2.20%  2.17%  2.14%  2.00%  1.96%  1.89%  1.79%  1.77%  1.72%  1.68%  1.65%  1.61%  1.60%  1.58%  1.56%  1.49%  1.45%  1.44%  1.42%  1.39%  1.37%  1.35%  1.33%  1.33%  1.30%  1.28%  1.28%  1.27%  1.24%  1.23%  1.21%  1.21%  1.18%  1.18%  1.15%  1.14%  1.13%  1.13%  1.11%  1.07%  1.07%  1.05%  1.03%  1.01%  1.01%  0.99%  0.96%  0.96%  0.94%  0.92%  0.90%  0.89%  0.86%  0.83%  \n",
      "Variance totale expliquée : 86.66%\n",
      "\n",
      "Shape : (4150, 60)\n",
      "Pourcentages de variance expliquée :3.89%  3.00%  2.62%  2.46%  2.28%  2.20%  2.17%  2.14%  2.00%  1.96%  1.89%  1.79%  1.77%  1.72%  1.68%  1.65%  1.61%  1.60%  1.58%  1.56%  1.49%  1.45%  1.44%  1.42%  1.39%  1.37%  1.35%  1.33%  1.33%  1.30%  1.28%  1.28%  1.27%  1.25%  1.23%  1.21%  1.21%  1.19%  1.18%  1.15%  1.14%  1.14%  1.13%  1.11%  1.09%  1.07%  1.04%  1.03%  1.02%  1.01%  0.99%  0.97%  0.96%  0.93%  0.92%  0.91%  0.89%  0.86%  0.84%  0.82%  \n",
      "Variance totale expliquée : 87.55%\n",
      "\n",
      "Shape : (4150, 61)\n",
      "Pourcentages de variance expliquée :3.89%  3.00%  2.62%  2.46%  2.28%  2.20%  2.17%  2.14%  2.00%  1.96%  1.89%  1.79%  1.77%  1.72%  1.68%  1.65%  1.61%  1.60%  1.58%  1.56%  1.49%  1.45%  1.44%  1.42%  1.39%  1.37%  1.35%  1.33%  1.33%  1.30%  1.28%  1.28%  1.27%  1.24%  1.23%  1.21%  1.21%  1.19%  1.18%  1.16%  1.14%  1.13%  1.13%  1.11%  1.09%  1.07%  1.05%  1.03%  1.02%  1.01%  1.00%  0.97%  0.96%  0.94%  0.92%  0.91%  0.88%  0.87%  0.85%  0.82%  0.80%  \n",
      "Variance totale expliquée : 88.38%\n",
      "\n",
      "Shape : (4150, 62)\n",
      "Pourcentages de variance expliquée :3.89%  3.00%  2.62%  2.46%  2.28%  2.20%  2.17%  2.14%  2.00%  1.96%  1.89%  1.79%  1.77%  1.72%  1.68%  1.65%  1.61%  1.60%  1.58%  1.56%  1.49%  1.45%  1.44%  1.42%  1.39%  1.37%  1.35%  1.33%  1.33%  1.30%  1.29%  1.28%  1.27%  1.24%  1.23%  1.21%  1.21%  1.19%  1.18%  1.16%  1.14%  1.13%  1.13%  1.11%  1.09%  1.07%  1.05%  1.03%  1.02%  1.01%  1.00%  0.97%  0.96%  0.94%  0.92%  0.91%  0.89%  0.87%  0.85%  0.83%  0.81%  0.80%  \n",
      "Variance totale expliquée : 89.23%\n",
      "\n",
      "Shape : (4150, 63)\n",
      "Pourcentages de variance expliquée :3.89%  3.00%  2.62%  2.46%  2.28%  2.20%  2.17%  2.14%  2.00%  1.96%  1.89%  1.79%  1.77%  1.72%  1.68%  1.65%  1.61%  1.60%  1.58%  1.56%  1.49%  1.45%  1.44%  1.42%  1.39%  1.37%  1.35%  1.33%  1.33%  1.30%  1.28%  1.28%  1.27%  1.24%  1.23%  1.21%  1.21%  1.19%  1.18%  1.15%  1.14%  1.13%  1.13%  1.11%  1.09%  1.07%  1.05%  1.03%  1.02%  1.01%  1.00%  0.97%  0.96%  0.94%  0.92%  0.91%  0.89%  0.87%  0.84%  0.83%  0.81%  0.80%  0.78%  \n",
      "Variance totale expliquée : 89.99%\n",
      "\n",
      "Shape : (4150, 64)\n",
      "Pourcentages de variance expliquée :3.89%  3.00%  2.62%  2.46%  2.28%  2.20%  2.17%  2.14%  2.00%  1.96%  1.89%  1.79%  1.77%  1.72%  1.68%  1.65%  1.61%  1.60%  1.58%  1.56%  1.49%  1.45%  1.44%  1.42%  1.39%  1.37%  1.35%  1.33%  1.33%  1.30%  1.29%  1.28%  1.27%  1.25%  1.23%  1.21%  1.21%  1.19%  1.18%  1.16%  1.14%  1.14%  1.13%  1.11%  1.09%  1.08%  1.05%  1.03%  1.02%  1.01%  1.00%  0.98%  0.96%  0.94%  0.92%  0.92%  0.90%  0.87%  0.85%  0.84%  0.81%  0.81%  0.78%  0.78%  \n",
      "Variance totale expliquée : 90.86%\n",
      "\n",
      "Shape : (4150, 65)\n",
      "Pourcentages de variance expliquée :3.89%  3.00%  2.62%  2.46%  2.28%  2.20%  2.17%  2.14%  2.00%  1.96%  1.89%  1.79%  1.77%  1.72%  1.68%  1.65%  1.61%  1.60%  1.58%  1.56%  1.49%  1.45%  1.44%  1.42%  1.39%  1.37%  1.35%  1.33%  1.33%  1.30%  1.29%  1.28%  1.27%  1.25%  1.23%  1.21%  1.21%  1.19%  1.18%  1.16%  1.14%  1.14%  1.13%  1.11%  1.09%  1.08%  1.05%  1.03%  1.02%  1.01%  1.00%  0.98%  0.96%  0.94%  0.92%  0.92%  0.90%  0.87%  0.85%  0.84%  0.81%  0.81%  0.78%  0.78%  0.75%  \n",
      "Variance totale expliquée : 91.61%\n",
      "\n",
      "Shape : (4150, 66)\n",
      "Pourcentages de variance expliquée :3.89%  3.00%  2.62%  2.46%  2.28%  2.20%  2.17%  2.14%  2.00%  1.96%  1.89%  1.79%  1.77%  1.72%  1.68%  1.65%  1.61%  1.60%  1.58%  1.56%  1.49%  1.45%  1.44%  1.42%  1.39%  1.37%  1.35%  1.33%  1.33%  1.30%  1.29%  1.28%  1.27%  1.25%  1.23%  1.21%  1.21%  1.19%  1.18%  1.16%  1.14%  1.14%  1.13%  1.11%  1.09%  1.08%  1.05%  1.03%  1.02%  1.01%  1.00%  0.98%  0.96%  0.94%  0.92%  0.92%  0.90%  0.87%  0.85%  0.84%  0.81%  0.81%  0.78%  0.78%  0.75%  0.75%  \n",
      "Variance totale expliquée : 92.36%\n",
      "\n",
      "Shape : (4150, 67)\n",
      "Pourcentages de variance expliquée :3.89%  3.00%  2.62%  2.46%  2.28%  2.20%  2.17%  2.14%  2.00%  1.96%  1.89%  1.79%  1.77%  1.72%  1.68%  1.65%  1.61%  1.60%  1.58%  1.56%  1.49%  1.45%  1.44%  1.42%  1.39%  1.37%  1.35%  1.33%  1.33%  1.30%  1.29%  1.28%  1.27%  1.25%  1.23%  1.21%  1.21%  1.19%  1.18%  1.16%  1.14%  1.14%  1.13%  1.11%  1.09%  1.08%  1.05%  1.03%  1.02%  1.01%  1.00%  0.98%  0.96%  0.94%  0.92%  0.92%  0.90%  0.87%  0.85%  0.84%  0.81%  0.81%  0.78%  0.78%  0.75%  0.75%  0.73%  \n",
      "Variance totale expliquée : 93.08%\n",
      "\n",
      "Shape : (4150, 68)\n",
      "Pourcentages de variance expliquée :3.89%  3.00%  2.62%  2.46%  2.28%  2.20%  2.17%  2.14%  2.00%  1.96%  1.89%  1.79%  1.77%  1.72%  1.68%  1.65%  1.61%  1.60%  1.58%  1.56%  1.49%  1.45%  1.44%  1.42%  1.39%  1.37%  1.35%  1.33%  1.33%  1.30%  1.29%  1.28%  1.27%  1.25%  1.23%  1.21%  1.21%  1.19%  1.18%  1.16%  1.14%  1.14%  1.13%  1.11%  1.09%  1.08%  1.05%  1.03%  1.02%  1.01%  1.00%  0.98%  0.96%  0.94%  0.92%  0.92%  0.90%  0.87%  0.85%  0.84%  0.81%  0.81%  0.78%  0.78%  0.75%  0.75%  0.73%  0.70%  \n",
      "Variance totale expliquée : 93.78%\n",
      "\n",
      "Shape : (4150, 69)\n",
      "Pourcentages de variance expliquée :3.89%  3.00%  2.62%  2.46%  2.28%  2.20%  2.17%  2.14%  2.00%  1.96%  1.89%  1.79%  1.77%  1.72%  1.68%  1.65%  1.61%  1.60%  1.58%  1.56%  1.49%  1.45%  1.44%  1.42%  1.39%  1.37%  1.35%  1.33%  1.33%  1.30%  1.29%  1.28%  1.27%  1.25%  1.23%  1.21%  1.21%  1.19%  1.18%  1.16%  1.14%  1.14%  1.13%  1.11%  1.09%  1.08%  1.05%  1.03%  1.02%  1.01%  1.00%  0.98%  0.96%  0.94%  0.92%  0.92%  0.90%  0.87%  0.85%  0.84%  0.81%  0.81%  0.78%  0.78%  0.75%  0.75%  0.73%  0.70%  0.68%  \n",
      "Variance totale expliquée : 94.46%\n",
      "\n",
      "Shape : (4150, 70)\n",
      "Pourcentages de variance expliquée :3.89%  3.00%  2.62%  2.46%  2.28%  2.20%  2.17%  2.14%  2.00%  1.96%  1.89%  1.79%  1.77%  1.72%  1.68%  1.65%  1.61%  1.60%  1.58%  1.56%  1.49%  1.45%  1.44%  1.42%  1.39%  1.37%  1.35%  1.33%  1.33%  1.30%  1.29%  1.28%  1.27%  1.25%  1.23%  1.21%  1.21%  1.19%  1.18%  1.16%  1.14%  1.14%  1.13%  1.11%  1.09%  1.08%  1.05%  1.03%  1.02%  1.01%  1.00%  0.98%  0.96%  0.94%  0.92%  0.92%  0.90%  0.87%  0.85%  0.84%  0.81%  0.81%  0.78%  0.78%  0.75%  0.75%  0.73%  0.70%  0.68%  0.66%  \n",
      "Variance totale expliquée : 95.12%\n",
      "\n",
      "Shape : (4150, 71)\n",
      "Pourcentages de variance expliquée :3.89%  3.00%  2.62%  2.46%  2.28%  2.20%  2.17%  2.14%  2.00%  1.96%  1.89%  1.79%  1.77%  1.72%  1.68%  1.65%  1.61%  1.60%  1.58%  1.56%  1.49%  1.45%  1.44%  1.42%  1.39%  1.37%  1.35%  1.33%  1.33%  1.30%  1.29%  1.28%  1.27%  1.25%  1.23%  1.21%  1.21%  1.19%  1.18%  1.16%  1.14%  1.14%  1.13%  1.11%  1.09%  1.08%  1.05%  1.03%  1.02%  1.01%  1.00%  0.98%  0.96%  0.94%  0.92%  0.92%  0.90%  0.87%  0.85%  0.84%  0.81%  0.81%  0.78%  0.78%  0.75%  0.75%  0.73%  0.70%  0.68%  0.66%  0.64%  \n",
      "Variance totale expliquée : 95.76%\n",
      "\n",
      "Shape : (4150, 72)\n",
      "Pourcentages de variance expliquée :3.89%  3.00%  2.62%  2.46%  2.28%  2.20%  2.17%  2.14%  2.00%  1.96%  1.89%  1.79%  1.77%  1.72%  1.68%  1.65%  1.61%  1.60%  1.58%  1.56%  1.49%  1.45%  1.44%  1.42%  1.39%  1.37%  1.35%  1.33%  1.33%  1.30%  1.29%  1.28%  1.27%  1.25%  1.23%  1.21%  1.21%  1.19%  1.18%  1.16%  1.14%  1.14%  1.13%  1.11%  1.09%  1.08%  1.05%  1.03%  1.02%  1.01%  1.00%  0.98%  0.96%  0.94%  0.92%  0.92%  0.90%  0.87%  0.85%  0.84%  0.81%  0.81%  0.78%  0.78%  0.75%  0.75%  0.73%  0.70%  0.68%  0.66%  0.64%  0.62%  \n",
      "Variance totale expliquée : 96.38%\n",
      "\n",
      "Shape : (4150, 73)\n",
      "Pourcentages de variance expliquée :3.89%  3.00%  2.62%  2.46%  2.28%  2.20%  2.17%  2.14%  2.00%  1.96%  1.89%  1.79%  1.77%  1.72%  1.68%  1.65%  1.61%  1.60%  1.58%  1.56%  1.49%  1.45%  1.44%  1.42%  1.39%  1.37%  1.35%  1.33%  1.33%  1.30%  1.29%  1.28%  1.27%  1.25%  1.23%  1.21%  1.21%  1.19%  1.18%  1.16%  1.14%  1.14%  1.13%  1.11%  1.09%  1.08%  1.05%  1.03%  1.02%  1.01%  1.00%  0.98%  0.96%  0.94%  0.92%  0.92%  0.90%  0.87%  0.85%  0.84%  0.81%  0.81%  0.78%  0.78%  0.75%  0.75%  0.73%  0.70%  0.68%  0.66%  0.64%  0.62%  0.60%  \n",
      "Variance totale expliquée : 96.98%\n",
      "\n",
      "Shape : (4150, 74)\n",
      "Pourcentages de variance expliquée :3.89%  3.00%  2.62%  2.46%  2.28%  2.20%  2.17%  2.14%  2.00%  1.96%  1.89%  1.79%  1.77%  1.72%  1.68%  1.65%  1.61%  1.60%  1.58%  1.56%  1.49%  1.45%  1.44%  1.42%  1.39%  1.37%  1.35%  1.33%  1.33%  1.30%  1.29%  1.28%  1.27%  1.25%  1.23%  1.21%  1.21%  1.19%  1.18%  1.16%  1.14%  1.14%  1.13%  1.11%  1.09%  1.08%  1.05%  1.03%  1.02%  1.01%  1.00%  0.98%  0.96%  0.94%  0.92%  0.92%  0.90%  0.87%  0.85%  0.84%  0.81%  0.81%  0.78%  0.78%  0.75%  0.75%  0.73%  0.70%  0.68%  0.66%  0.64%  0.62%  0.60%  0.58%  \n",
      "Variance totale expliquée : 97.56%\n",
      "\n",
      "Shape : (4150, 75)\n",
      "Pourcentages de variance expliquée :3.89%  3.00%  2.62%  2.46%  2.28%  2.20%  2.17%  2.14%  2.00%  1.96%  1.89%  1.79%  1.77%  1.72%  1.68%  1.65%  1.61%  1.60%  1.58%  1.56%  1.49%  1.45%  1.44%  1.42%  1.39%  1.37%  1.35%  1.33%  1.33%  1.30%  1.29%  1.28%  1.27%  1.25%  1.23%  1.21%  1.21%  1.19%  1.18%  1.16%  1.14%  1.14%  1.13%  1.11%  1.09%  1.08%  1.05%  1.03%  1.02%  1.01%  1.00%  0.98%  0.96%  0.94%  0.92%  0.92%  0.90%  0.87%  0.85%  0.84%  0.81%  0.81%  0.78%  0.78%  0.75%  0.75%  0.73%  0.70%  0.68%  0.66%  0.64%  0.62%  0.60%  0.58%  0.57%  \n",
      "Variance totale expliquée : 98.13%\n",
      "\n",
      "Shape : (4150, 76)\n",
      "Pourcentages de variance expliquée :3.89%  3.00%  2.62%  2.46%  2.28%  2.20%  2.17%  2.14%  2.00%  1.96%  1.89%  1.79%  1.77%  1.72%  1.68%  1.65%  1.61%  1.60%  1.58%  1.56%  1.49%  1.45%  1.44%  1.42%  1.39%  1.37%  1.35%  1.33%  1.33%  1.30%  1.29%  1.28%  1.27%  1.25%  1.23%  1.21%  1.21%  1.19%  1.18%  1.16%  1.14%  1.14%  1.13%  1.11%  1.09%  1.08%  1.05%  1.03%  1.02%  1.01%  1.00%  0.98%  0.96%  0.94%  0.92%  0.92%  0.90%  0.87%  0.85%  0.84%  0.81%  0.81%  0.78%  0.78%  0.75%  0.75%  0.73%  0.70%  0.68%  0.66%  0.64%  0.62%  0.60%  0.58%  0.57%  0.55%  \n",
      "Variance totale expliquée : 98.68%\n",
      "\n",
      "Shape : (4150, 77)\n",
      "Pourcentages de variance expliquée :3.89%  3.00%  2.62%  2.46%  2.28%  2.20%  2.17%  2.14%  2.00%  1.96%  1.89%  1.79%  1.77%  1.72%  1.68%  1.65%  1.61%  1.60%  1.58%  1.56%  1.49%  1.45%  1.44%  1.42%  1.39%  1.37%  1.35%  1.33%  1.33%  1.30%  1.29%  1.28%  1.27%  1.25%  1.23%  1.21%  1.21%  1.19%  1.18%  1.16%  1.14%  1.14%  1.13%  1.11%  1.09%  1.08%  1.05%  1.03%  1.02%  1.01%  1.00%  0.98%  0.96%  0.94%  0.92%  0.92%  0.90%  0.87%  0.85%  0.84%  0.81%  0.81%  0.78%  0.78%  0.75%  0.75%  0.73%  0.70%  0.68%  0.66%  0.64%  0.62%  0.60%  0.58%  0.57%  0.55%  0.52%  \n",
      "Variance totale expliquée : 99.20%\n",
      "\n",
      "Shape : (4150, 78)\n",
      "Pourcentages de variance expliquée :3.89%  3.00%  2.62%  2.46%  2.28%  2.20%  2.17%  2.14%  2.00%  1.96%  1.89%  1.79%  1.77%  1.72%  1.68%  1.65%  1.61%  1.60%  1.58%  1.56%  1.49%  1.45%  1.44%  1.42%  1.39%  1.37%  1.35%  1.33%  1.33%  1.30%  1.29%  1.28%  1.27%  1.25%  1.23%  1.21%  1.21%  1.19%  1.18%  1.16%  1.14%  1.14%  1.13%  1.11%  1.09%  1.08%  1.05%  1.03%  1.02%  1.01%  1.00%  0.98%  0.96%  0.94%  0.92%  0.92%  0.90%  0.87%  0.85%  0.84%  0.81%  0.81%  0.78%  0.78%  0.75%  0.75%  0.73%  0.70%  0.68%  0.66%  0.64%  0.62%  0.60%  0.58%  0.57%  0.55%  0.52%  0.43%  \n",
      "Variance totale expliquée : 99.63%\n",
      "\n",
      "Shape : (4150, 79)\n",
      "Pourcentages de variance expliquée :3.89%  3.00%  2.62%  2.46%  2.28%  2.20%  2.17%  2.14%  2.00%  1.96%  1.89%  1.79%  1.77%  1.72%  1.68%  1.65%  1.61%  1.60%  1.58%  1.56%  1.49%  1.45%  1.44%  1.42%  1.39%  1.37%  1.35%  1.33%  1.33%  1.30%  1.29%  1.28%  1.27%  1.25%  1.23%  1.21%  1.21%  1.19%  1.18%  1.16%  1.14%  1.14%  1.13%  1.11%  1.09%  1.08%  1.05%  1.03%  1.02%  1.01%  1.00%  0.98%  0.96%  0.94%  0.92%  0.92%  0.90%  0.87%  0.85%  0.84%  0.81%  0.81%  0.78%  0.78%  0.75%  0.75%  0.73%  0.70%  0.68%  0.66%  0.64%  0.62%  0.60%  0.58%  0.57%  0.55%  0.52%  0.43%  0.37%  \n",
      "Variance totale expliquée : 100.00%\n",
      "\n",
      "Shape : (4150, 80)\n",
      "Pourcentages de variance expliquée :3.89%  3.00%  2.62%  2.46%  2.28%  2.20%  2.17%  2.14%  2.00%  1.96%  1.89%  1.79%  1.77%  1.72%  1.68%  1.65%  1.61%  1.60%  1.58%  1.56%  1.49%  1.45%  1.44%  1.42%  1.39%  1.37%  1.35%  1.33%  1.33%  1.30%  1.29%  1.28%  1.27%  1.25%  1.23%  1.21%  1.21%  1.19%  1.18%  1.16%  1.14%  1.14%  1.13%  1.11%  1.09%  1.08%  1.05%  1.03%  1.02%  1.01%  1.00%  0.98%  0.96%  0.94%  0.92%  0.92%  0.90%  0.87%  0.85%  0.84%  0.81%  0.81%  0.78%  0.78%  0.75%  0.75%  0.73%  0.70%  0.68%  0.66%  0.64%  0.62%  0.60%  0.58%  0.57%  0.55%  0.52%  0.43%  0.37%  0.00%  \n",
      "Variance totale expliquée : 100.00%\n"
     ]
    }
   ],
   "source": [
    "from sklearn.decomposition import PCA\n",
    "variance_totale = []\n",
    "\n",
    "for i in range(81):\n",
    "    pca = PCA(i)\n",
    "    reduced_data = pca.fit_transform(data_scaled)\n",
    "    print(\"\\nShape : {}\".format(reduced_data.shape))\n",
    "    s = \"{:.2f}%  \"*(i)\n",
    "    print(\"Pourcentages de variance expliquée :\"+s.format(*pca.explained_variance_ratio_*100))\n",
    "    variance = pca.explained_variance_ratio_.sum()*100\n",
    "    variance_totale.append(variance)\n",
    "    print(\"Variance totale expliquée : {:.2f}%\".format(variance))"
   ]
  },
  {
   "cell_type": "code",
   "execution_count": 423,
   "metadata": {},
   "outputs": [
    {
     "data": {
      "image/png": "[encoded data removed]",
      "text/plain": [
       "<Figure size 1224x576 with 1 Axes>"
      ]
     },
     "metadata": {
      "needs_background": "light"
     },
     "output_type": "display_data"
    }
   ],
   "source": [
    "# visualizing the variation of explained variance according to the number of components\n",
    "plt.figure(figsize=(17,8))\n",
    "plt.plot(variance_totale)\n",
    "plt.scatter(np.arange(81), variance_totale, color='red')\n",
    "plt.axhline(90, linestyle='--')\n",
    "plt.title(\"Variance totale expliquée en fonction de n_componments\")\n",
    "plt.show()"
   ]
  },
  {
   "cell_type": "code",
   "execution_count": 424,
   "metadata": {},
   "outputs": [
    {
     "name": "stdout",
     "output_type": "stream",
     "text": [
      "Variance totale expliquée : 91.61%\n",
      "shape :  (4150, 65)\n"
     ]
    }
   ],
   "source": [
    "pca = PCA(n_components=65)\n",
    "X_pca = pca.fit_transform(data_scaled)\n",
    "anime_pca = pd.DataFrame(data = X_pca, columns = [f'PC{i}' for i in range(1,66)])\n",
    "print(\"Variance totale expliquée : {:.2f}%\".format(pca.explained_variance_ratio_.sum()*100))\n",
    "print('shape : ',anime_pca.shape)"
   ]
  },
  {
   "cell_type": "markdown",
   "metadata": {},
   "source": [
    "`As we can see either from the pca or feature selection, all columns have close explained variances so we can't reduce the number of variables a lot because we should keep a reasonable total of explained variances (>=90%)`"
   ]
  },
  {
   "cell_type": "markdown",
   "metadata": {},
   "source": [
    "---\n",
    "---\n",
    "### <center> `Predicting the score using regression algorithms`"
   ]
  },
  {
   "cell_type": "markdown",
   "metadata": {},
   "source": [
    "in this part we will try to build a regression model to predict the score of a given anime, but as we notice in the previous section there are few differences between the original data (anime_1), data after features selection (anime_fs) and data after pca (anime_pca) ==> so we will try all of these data and many of famous regression models to choose finally the best model"
   ]
  },
  {
   "cell_type": "code",
   "execution_count": 425,
   "metadata": {},
   "outputs": [],
   "source": [
    "from sklearn.linear_model import LinearRegression, Ridge\n",
    "from sklearn.svm import SVR\n",
    "from sklearn.ensemble import RandomForestRegressor\n",
    "from sklearn.model_selection import train_test_split, RandomizedSearchCV\n",
    "from sklearn.metrics import mean_absolute_error, mean_squared_error, r2_score"
   ]
  },
  {
   "cell_type": "code",
   "execution_count": 426,
   "metadata": {},
   "outputs": [],
   "source": [
    "result_df = pd.DataFrame(index=['LinearRegression','Ridge','SVR_linear','SVR_rbf','SVR_poly','RandomForestRegressor'])"
   ]
  },
  {
   "cell_type": "code",
   "execution_count": 431,
   "metadata": {},
   "outputs": [
    {
     "data": {
      "text/plain": [
       "((4150, 56), (4150,))"
      ]
     },
     "execution_count": 431,
     "metadata": {},
     "output_type": "execute_result"
    }
   ],
   "source": [
    "reg_x=anime_fs\n",
    "reg_y=anime_1.score\n",
    "reg_x.shape, reg_y.shape"
   ]
  },
  {
   "cell_type": "code",
   "execution_count": 435,
   "metadata": {},
   "outputs": [
    {
     "data": {
      "text/plain": [
       "((3112, 80), (1038, 80), (3112,), (1038,))"
      ]
     },
     "execution_count": 435,
     "metadata": {},
     "output_type": "execute_result"
    }
   ],
   "source": [
    "reg_x_train, reg_x_test, reg_y_train, reg_y_test = train_test_split(reg_x, reg_y, test_size = 0.25, random_state=0)\n",
    "reg_x_train.shape , reg_x_test.shape, reg_y_train.shape, reg_y_test.shape"
   ]
  },
  {
   "cell_type": "code",
   "execution_count": 429,
   "metadata": {},
   "outputs": [
    {
     "name": "stdout",
     "output_type": "stream",
     "text": [
      "MAE :  0.3071901723797979\n",
      "MSE :  0.1468153787056852\n",
      "R^2 :  0.1980978160008955\n"
     ]
    }
   ],
   "source": [
    "mdl = LinearRegression()\n",
    "mdl.fit(reg_x_train, reg_y_train)\n",
    "reg_pred = mdl.predict(reg_x_test)\n",
    "print(\"MAE : \", mean_absolute_error(reg_y_test, reg_pred))\n",
    "print(\"MSE : \", mean_squared_error(reg_y_test, reg_pred))\n",
    "print(\"R^2 : \", r2_score(reg_y_test, reg_pred))"
   ]
  },
  {
   "cell_type": "markdown",
   "metadata": {},
   "source": [
    "`we can observe clearly that our algorithm is not good so we can make a first proposition that the relationship between the dependent variable and independent variables is non linear` "
   ]
  },
  {
   "cell_type": "code",
   "execution_count": 436,
   "metadata": {},
   "outputs": [
    {
     "data": {
      "text/html": [
       "<div>\n",
       "<style scoped>\n",
       "    .dataframe tbody tr th:only-of-type {\n",
       "        vertical-align: middle;\n",
       "    }\n",
       "\n",
       "    .dataframe tbody tr th {\n",
       "        vertical-align: top;\n",
       "    }\n",
       "\n",
       "    .dataframe thead th {\n",
       "        text-align: right;\n",
       "    }\n",
       "</style>\n",
       "<table border=\"1\" class=\"dataframe\">\n",
       "  <thead>\n",
       "    <tr style=\"text-align: right;\">\n",
       "      <th></th>\n",
       "      <th>MAE_pca</th>\n",
       "      <th>MSE_pca</th>\n",
       "      <th>r2_pca</th>\n",
       "      <th>MAE_fs</th>\n",
       "      <th>MSE_fs</th>\n",
       "      <th>r2_fs</th>\n",
       "      <th>MAE_original</th>\n",
       "      <th>MSE_original</th>\n",
       "      <th>r2_original</th>\n",
       "    </tr>\n",
       "  </thead>\n",
       "  <tbody>\n",
       "    <tr>\n",
       "      <th>LinearRegression</th>\n",
       "      <td>0.307190</td>\n",
       "      <td>0.146815</td>\n",
       "      <td>0.198098</td>\n",
       "      <td>0.308650</td>\n",
       "      <td>0.146861</td>\n",
       "      <td>0.197849</td>\n",
       "      <td>0.308614</td>\n",
       "      <td>0.147455</td>\n",
       "      <td>0.194602</td>\n",
       "    </tr>\n",
       "    <tr>\n",
       "      <th>Ridge</th>\n",
       "      <td>0.307192</td>\n",
       "      <td>0.146815</td>\n",
       "      <td>0.198099</td>\n",
       "      <td>0.308574</td>\n",
       "      <td>0.146780</td>\n",
       "      <td>0.198291</td>\n",
       "      <td>0.308515</td>\n",
       "      <td>0.147327</td>\n",
       "      <td>0.195305</td>\n",
       "    </tr>\n",
       "    <tr>\n",
       "      <th>SVR_linear</th>\n",
       "      <td>0.302381</td>\n",
       "      <td>0.153159</td>\n",
       "      <td>0.163447</td>\n",
       "      <td>0.303094</td>\n",
       "      <td>0.152785</td>\n",
       "      <td>0.165493</td>\n",
       "      <td>0.305345</td>\n",
       "      <td>0.155194</td>\n",
       "      <td>0.152336</td>\n",
       "    </tr>\n",
       "    <tr>\n",
       "      <th>SVR_rbf</th>\n",
       "      <td>0.285036</td>\n",
       "      <td>0.135337</td>\n",
       "      <td>0.260794</td>\n",
       "      <td>0.312592</td>\n",
       "      <td>0.168527</td>\n",
       "      <td>0.079507</td>\n",
       "      <td>0.312294</td>\n",
       "      <td>0.168404</td>\n",
       "      <td>0.080182</td>\n",
       "    </tr>\n",
       "    <tr>\n",
       "      <th>SVR_poly</th>\n",
       "      <td>0.307957</td>\n",
       "      <td>0.288354</td>\n",
       "      <td>-0.574981</td>\n",
       "      <td>0.497861</td>\n",
       "      <td>28.956603</td>\n",
       "      <td>-157.160290</td>\n",
       "      <td>0.497154</td>\n",
       "      <td>28.776421</td>\n",
       "      <td>-156.176140</td>\n",
       "    </tr>\n",
       "    <tr>\n",
       "      <th>RandomForestRegressor</th>\n",
       "      <td>0.293037</td>\n",
       "      <td>0.135058</td>\n",
       "      <td>0.262317</td>\n",
       "      <td>0.290021</td>\n",
       "      <td>0.138728</td>\n",
       "      <td>0.242274</td>\n",
       "      <td>0.283624</td>\n",
       "      <td>0.132726</td>\n",
       "      <td>0.275054</td>\n",
       "    </tr>\n",
       "  </tbody>\n",
       "</table>\n",
       "</div>"
      ],
      "text/plain": [
       "                        MAE_pca   MSE_pca    r2_pca    MAE_fs     MSE_fs  \\\n",
       "LinearRegression       0.307190  0.146815  0.198098  0.308650   0.146861   \n",
       "Ridge                  0.307192  0.146815  0.198099  0.308574   0.146780   \n",
       "SVR_linear             0.302381  0.153159  0.163447  0.303094   0.152785   \n",
       "SVR_rbf                0.285036  0.135337  0.260794  0.312592   0.168527   \n",
       "SVR_poly               0.307957  0.288354 -0.574981  0.497861  28.956603   \n",
       "RandomForestRegressor  0.293037  0.135058  0.262317  0.290021   0.138728   \n",
       "\n",
       "                            r2_fs  MAE_original  MSE_original  r2_original  \n",
       "LinearRegression         0.197849      0.308614      0.147455     0.194602  \n",
       "Ridge                    0.198291      0.308515      0.147327     0.195305  \n",
       "SVR_linear               0.165493      0.305345      0.155194     0.152336  \n",
       "SVR_rbf                  0.079507      0.312294      0.168404     0.080182  \n",
       "SVR_poly              -157.160290      0.497154     28.776421  -156.176140  \n",
       "RandomForestRegressor    0.242274      0.283624      0.132726     0.275054  "
      ]
     },
     "execution_count": 436,
     "metadata": {},
     "output_type": "execute_result"
    }
   ],
   "source": [
    "regression_models = {'LinearRegression':LinearRegression(),\n",
    "                     'Ridge':Ridge(),\n",
    "                     'SVR_linear':SVR(kernel='linear'),\n",
    "                     'SVR_rbf':SVR(kernel='rbf'),\n",
    "                     'SVR_poly':SVR(kernel='poly'),\n",
    "                     'RandomForestRegressor':RandomForestRegressor()}\n",
    "MAE, MSE, R_squared = [],[],[]\n",
    "for model in regression_models.values():\n",
    "    model.fit(reg_x_train, reg_y_train)\n",
    "    reg_pred = model.predict(reg_x_test)\n",
    "    MAE.append(mean_absolute_error(reg_y_test, reg_pred))\n",
    "    MSE.append(mean_squared_error(reg_y_test, reg_pred))\n",
    "    R_squared.append(r2_score(reg_y_test, reg_pred))\n",
    "result_df [\"MAE_original\"]= MAE\n",
    "result_df [\"MSE_original\"]= MSE\n",
    "result_df [\"r2_original\"]= R_squared\n",
    "\n",
    "result_df"
   ]
  },
  {
   "cell_type": "markdown",
   "metadata": {},
   "source": [
    "---\n",
    "---\n",
    "### <center> `anime recommendations algorithm`"
   ]
  },
  {
   "cell_type": "code",
   "execution_count": 442,
   "metadata": {},
   "outputs": [],
   "source": [
    "from sklearn.metrics.pairwise import cosine_similarity\n",
    "\n",
    "# calculate cosine similarity\n",
    "cosine_sim = cosine_similarity(anime_pca, anime_pca)"
   ]
  },
  {
   "cell_type": "code",
   "execution_count": 458,
   "metadata": {},
   "outputs": [],
   "source": [
    "from sklearn.metrics.pairwise import cosine_similarity\n",
    "\n",
    "# calculate cosine similarity\n",
    "cosine_sim = cosine_similarity(anime_1, anime_1)\n",
    "\n",
    "# function to get recommendations\n",
    "def anime_recommendations(title, cosine_sim=cosine_sim, anime_df=anime):\n",
    "    # get index of the anime title\n",
    "    idx = anime_df[anime_df['title'] == title].index[0]\n",
    "    \n",
    "    # get the cosine similarity scores for all anime\n",
    "    sim_scores = list(enumerate(cosine_sim[idx]))\n",
    "    \n",
    "    # sort the anime based on the cosine similarity scores\n",
    "    sim_scores = sorted(sim_scores, key=lambda x: x[1], reverse=True)\n",
    "    \n",
    "    # get the top 5 most similar anime\n",
    "    sim_scores = sim_scores[1:6]\n",
    "    \n",
    "    # get the anime indices\n",
    "    anime_indices = [i[0] for i in sim_scores]\n",
    "    \n",
    "    # return the top 10 most similar anime\n",
    "    return anime_df['title'].iloc[anime_indices]\n"
   ]
  },
  {
   "cell_type": "code",
   "execution_count": 459,
   "metadata": {},
   "outputs": [
    {
     "data": {
      "text/plain": [
       "958                                             Doraemon\n",
       "286                                     Naruto Shippuden\n",
       "2460                            The God of War Dominates\n",
       "978     Kochira Katsushikaku Kameari Kouenmae Hashutsujo\n",
       "1163                                           Sgt. Frog\n",
       "Name: title, dtype: object"
      ]
     },
     "execution_count": 459,
     "metadata": {},
     "output_type": "execute_result"
    }
   ],
   "source": [
    "anime_recommendations('One Piece')"
   ]
  },
  {
   "cell_type": "code",
   "execution_count": 462,
   "metadata": {},
   "outputs": [
    {
     "data": {
      "text/plain": [
       "97                        Haikyu!! TO THE TOP 2nd-cour\n",
       "498                       Black Butler: Book of Circus\n",
       "391                               Moriarty the Patriot\n",
       "701                                   My Hero Academia\n",
       "1634    The Millionaire Detective – Balance: UNLIMITED\n",
       "Name: title, dtype: object"
      ]
     },
     "execution_count": 462,
     "metadata": {},
     "output_type": "execute_result"
    }
   ],
   "source": [
    "anime_recommendations('Haikyu!! 3rd Season')"
   ]
  }
 ],
 "metadata": {
  "interpreter": {
   "hash": "bf18297ba29ab59974e3cde921359bf4732846305eb0ebd212cf3897d725727a"
  },
  "kernelspec": {
   "display_name": "Python 3.9.10 64-bit",
   "language": "python",
   "name": "python3"
  },
  "language_info": {
   "codemirror_mode": {
    "name": "ipython",
    "version": 3
   },
   "file_extension": ".py",
   "mimetype": "text/x-python",
   "name": "python",
   "nbconvert_exporter": "python",
   "pygments_lexer": "ipython3",
   "version": "3.9.10"
  },
  "orig_nbformat": 4
 },
 "nbformat": 4,
 "nbformat_minor": 2
}
